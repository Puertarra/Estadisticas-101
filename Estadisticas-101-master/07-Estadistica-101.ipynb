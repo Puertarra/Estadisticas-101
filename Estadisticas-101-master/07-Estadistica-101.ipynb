{
 "cells": [
  {
   "cell_type": "markdown",
   "metadata": {},
   "source": [
    "# 07 Estadística-101\n",
    "\n",
    "Autores:\n",
    "    * Andrés Leiva Araos  :: andres.leivaa@gmail.com\n",
    "    * Roberto Moraga Díaz :: roberto.moraga@telefonica.com"
   ]
  },
  {
   "cell_type": "markdown",
   "metadata": {},
   "source": [
    "Este curso está orientado a personas que quieren reforzar conocimientos de estadísticas básicas aplicadas al análisis de datos voluminosos, de cara a tener una mejor base para futuros procesos de inferencia y otras técnicas analíticas avanzadas."
   ]
  },
  {
   "cell_type": "markdown",
   "metadata": {},
   "source": [
    "### Índice\n",
    "\n",
    "1. Introducción\n",
    "    * Población\n",
    "    * Muestras\n",
    "    * Variables\n",
    "    * Parámetros\n",
    "    * Estadígrafos\n",
    "2. Distribuciones\n",
    "    * Normal\n",
    "    * Gamma\n",
    "3. Teorema del límite central\n",
    "4. Análisis de umbrales sensibilidad\n",
    "5. Intervalos de confianza\n",
    "6. Tamaño muestral\n",
    "7. Pareto\n",
    "8. Correlación\n",
    "9. Regresión lineal\n",
    "10. Regresión polinomial\n",
    "11. Clustering\n",
    "\n"
   ]
  },
  {
   "cell_type": "markdown",
   "metadata": {},
   "source": [
    "## Librerías  de Python que utilizaremos"
   ]
  },
  {
   "cell_type": "code",
   "execution_count": 2,
   "metadata": {},
   "outputs": [],
   "source": [
    "import numpy as np # importando numpy\n",
    "from scipy import stats # importando scipy.stats\n",
    "import pandas as pd # importando pandas\n",
    "import math\n",
    "import matplotlib.pyplot as plt\n",
    "\n",
    "np.random.seed(1) # para poder replicar el random\n"
   ]
  },
  {
   "cell_type": "markdown",
   "metadata": {},
   "source": [
    "### Población\n",
    "Colección completa de todos los individuos de interés para el investigador.\n",
    "\n",
    "A continuación mostraremos una población con **distribución Normal** con media $\\mu = 0$ y sigma $\\sigma = 1$<br>\n",
    "Las distribuciones normales (o Gaussianas) se aplican a variables continuas, donde la gráfica de su función densidad de proabilidad tiene una forma acampanada y simétrica. Representan más del 50% de los fenomenos industriales estudiados. Sin embargo, hay otras distribuciones que estudiaremos más adelante."
   ]
  },
  {
   "cell_type": "code",
   "execution_count": 3,
   "metadata": {
    "scrolled": true
   },
   "outputs": [
    {
     "name": "stdout",
     "output_type": "stream",
     "text": [
      "[-0.27071232  0.10484805  0.25052782 -0.92519997  0.56714366 -1.04018022\n",
      " -0.15367595  0.78985181 -1.22621585 -0.94800699 -0.56965394 -0.97715021\n",
      " -0.77063171 -0.03371129 -1.03285925  1.14242738 -0.60977801  1.46941639\n",
      "  1.49267884  0.70712523 -1.85849026 -1.37062377 -0.33010639 -1.51528995\n",
      "  1.20006019 -1.82261914  0.26938454 -0.44642438  1.1143136  -1.3808026\n",
      "  1.01542452  0.22408128 -0.64455111  0.66153166  1.29296485 -0.89531205\n",
      " -0.56831065 -2.11161836 -0.81830772 -0.96238361  0.12450167  0.10850869\n",
      " -0.43930126 -0.71356037  0.93418096  0.05865553  1.60971428  0.85990674\n",
      " -0.98520304 -0.95836832  0.44910865 -0.94246256  0.15890945  0.38807562\n",
      "  0.43733776  0.41822955 -0.73218499 -1.42828297 -2.00921735 -0.23343958\n",
      "  1.80395237 -1.94867066  1.36785101 -1.85873942 -1.23395073 -0.50756976\n",
      "  1.4071715  -0.94109705  0.87350473  1.13510019  1.1659844   0.04921449\n",
      "  0.51094674  0.63129939  0.88770207  0.05765164 -0.32954444 -2.83207869\n",
      " -1.18255366 -0.05484602  1.24835183  2.51034292 -0.17133646 -0.45805514\n",
      " -1.33878152  1.32006292 -1.40932928 -1.09829722 -0.48675106 -1.00097056\n",
      "  1.77387679  0.55578305 -0.54871197  1.08001575 -0.75243358  1.15879497\n",
      "  0.75087133 -1.26271269 -0.79070053 -0.17078885]\n"
     ]
    }
   ],
   "source": [
    "# Generamos una semilla para que la población que creemos sea siempre la misma\n",
    "np.random.seed(41)\n",
    "# Generamos la población con la semilla creada\n",
    "media = 0\n",
    "sigma = 1.0\n",
    "size = 100\n",
    "\n",
    "poblacion = np.random.normal(media, sigma, size)\n",
    "print(poblacion)"
   ]
  },
  {
   "cell_type": "markdown",
   "metadata": {},
   "source": [
    "Otro tipo de distribución distinta a la Normal, es la **Distribución Uniforme Discreta**. Ahora crearemos una segunda población con datos aleatorios con distribución Uniforme discreta, esta vez representando edades de 1000 adultos. Debemos hacerlo de la siguiente forma:\n",
    "```Python\n",
    "    np.random.randint(valor_mínimo, valor_máximo, tamaño)\n",
    "```"
   ]
  },
  {
   "cell_type": "code",
   "execution_count": 7,
   "metadata": {},
   "outputs": [
    {
     "data": {
      "text/plain": [
       "array([87, 86, 82, 31, 67, 37, 60, 33, 53, 33])"
      ]
     },
     "execution_count": 7,
     "metadata": {},
     "output_type": "execute_result"
    }
   ],
   "source": [
    "edad_min = 18 # rango inferior de edades\n",
    "edad_max = 90 # rango superior de edades\n",
    "size = 1000\n",
    "edades = np.random.randint(low=edad_min, high=edad_max, size=size)\n",
    "edades[:10] # Visualizamos los diez primeros"
   ]
  },
  {
   "cell_type": "markdown",
   "metadata": {},
   "source": [
    "Si quisieramos crear una **Distribución Uniforme Continua** debemos hacerlo de esta forma:\n",
    "\n",
    "```Python\n",
    "    np.random.uniform(valor_mínimo, valor_máximo, tamaño)\n",
    "```"
   ]
  },
  {
   "cell_type": "code",
   "execution_count": 8,
   "metadata": {},
   "outputs": [
    {
     "name": "stdout",
     "output_type": "stream",
     "text": [
      "[62.53184514 50.87990606 38.878623   83.96242563 63.01461999 37.36239217\n",
      " 87.45255193 37.03339671 53.23382036 24.06146975]\n"
     ]
    }
   ],
   "source": [
    "edades2 = np.random.uniform(18,90, size=10)\n",
    "print(edades2)"
   ]
  },
  {
   "cell_type": "markdown",
   "metadata": {},
   "source": [
    "## Parámetros\n",
    "Valor que caractariza un aspecto de la población. Ej.: media poblacional, mediana poblacional, desviación estándar poblacional, etc.\n",
    "\n",
    "Analicemos los parámetros de la población **poblacion**"
   ]
  },
  {
   "cell_type": "code",
   "execution_count": 108,
   "metadata": {},
   "outputs": [
    {
     "name": "stdout",
     "output_type": "stream",
     "text": [
      "Media poblacional\t\t= -0.14\n",
      "Desviación estándar poblacional\t= 1.06\n",
      "Mediana poblacional\t\t= -0.20\n"
     ]
    }
   ],
   "source": [
    "print('Media poblacional\\t\\t= {:4.2f}'.format(poblacion.mean()))\n",
    "print('Desviación estándar poblacional\\t= {:4.2f}'.format(poblacion.std()))\n",
    "print('Mediana poblacional\\t\\t= {:4.2f}'.format(np.median(poblacion)))"
   ]
  },
  {
   "cell_type": "markdown",
   "metadata": {},
   "source": [
    "Ahora analicemos los parámetros de la población **edades**"
   ]
  },
  {
   "cell_type": "code",
   "execution_count": 100,
   "metadata": {},
   "outputs": [
    {
     "name": "stdout",
     "output_type": "stream",
     "text": [
      "Tamaño población edades\t\t\t= 10000 individuos\n",
      "Media de edades\t\t\t\t= 53.38\n",
      "Desviación estándar de las edades\t= 20.74\n",
      "Mediana poblacional de las edades\t= 53.00\n",
      "Moda poblacional es 72 y se repite 172 veces\n"
     ]
    }
   ],
   "source": [
    "print('Tamaño población edades\\t\\t\\t= {:d} individuos'.format(len(edades)))\n",
    "print('Media de edades\\t\\t\\t\\t= {:4.2f}'.format(edades.mean()))\n",
    "print('Desviación estándar de las edades\\t= {:4.2f}'.format(edades.std()))\n",
    "print('Mediana poblacional de las edades\\t= {:4.2f}'.format(np.median(edades)))\n",
    "print('Moda poblacional es {} y se repite {} veces'.format(str(stats.mode(edades)[0][0]),\n",
    "                                              str(stats.mode(edades)[1][0])))"
   ]
  },
  {
   "cell_type": "markdown",
   "metadata": {},
   "source": [
    "## Muestra\n",
    "Subconjunto de la población, el cual es representativo de la misma."
   ]
  },
  {
   "cell_type": "code",
   "execution_count": 10,
   "metadata": {},
   "outputs": [
    {
     "name": "stdout",
     "output_type": "stream",
     "text": [
      "[ 1.77387679  0.55578305 -0.54871197  1.08001575 -0.75243358  1.15879497\n",
      "  0.75087133 -1.26271269 -0.79070053 -0.17078885]\n"
     ]
    }
   ],
   "source": [
    "# Tomemos como muestra los diez últimos elementos de la población\n",
    "muestra1 = poblacion[90:]\n",
    "print(muestra1)"
   ]
  },
  {
   "cell_type": "code",
   "execution_count": 11,
   "metadata": {},
   "outputs": [
    {
     "name": "stdout",
     "output_type": "stream",
     "text": [
      "[ 1.77387679  0.26938454 -1.18255366  1.60971428  1.24835183 -0.17133646\n",
      "  1.29296485  1.4071715   0.22408128 -0.23343958  0.15890945  0.66153166\n",
      " -1.03285925 -0.73218499  0.70712523 -0.92519997  1.1143136  -0.05484602\n",
      " -2.00921735 -0.45805514  1.77387679 -0.32954444  1.15879497  0.63129939\n",
      "  0.51094674 -0.33010639 -0.32954444 -0.97715021 -0.05484602 -0.94109705\n",
      " -0.48675106  1.01542452 -1.3808026  -0.48675106  0.51094674 -0.94109705\n",
      "  1.80395237  0.93418096 -1.33878152 -0.05484602  0.04921449 -0.32954444\n",
      "  0.38807562 -1.42828297 -0.33010639 -0.45805514  0.15890945  0.43733776\n",
      "  0.51094674  1.13510019]\n"
     ]
    }
   ],
   "source": [
    "# Ahora tomemos como muestra los cincuenta elementos de forma aleatoria desde la población, \n",
    "# en la cual todos tienen la misma probabilidad de ser escogidos\n",
    "muestra2 = np.random.choice(poblacion, 50)\n",
    "print(muestra2)"
   ]
  },
  {
   "cell_type": "markdown",
   "metadata": {},
   "source": [
    "¿Cuál de las dos muestras (muestra1 ó muestra2) es la mejor?"
   ]
  },
  {
   "cell_type": "markdown",
   "metadata": {},
   "source": [
    "Lo anterior es un estilo de muestreo aleatorio simple, el cual, junto con su tamaño, aseguran representatividad, es decir, que la muestra sea una imagen confiable de la población. <br>\n",
    "\n",
    "**Conclusión**<br>\n",
    "Un buen muestreo aleatorio evita el sesgo muestral, el cual es la tendencia a favorecer la selección de determinados individuos de la población."
   ]
  },
  {
   "cell_type": "markdown",
   "metadata": {},
   "source": [
    "### Reflexión\n",
    "¿Por qué muestrear?<br>\n",
    "¿Por qué no usar la población completa (el censo) si es que disponemos de él?"
   ]
  },
  {
   "cell_type": "markdown",
   "metadata": {},
   "source": [
    "## Estadísticos\n",
    "Medida descriptiva de la muestra que se utiliza para estimar al respectivo parámetro poblacional. El *estadístico* es básicamente lo mismo que el *parámetro poblacional*, pero se diferencia en que se calcula a partir de la muestra y no de la población."
   ]
  },
  {
   "cell_type": "code",
   "execution_count": 13,
   "metadata": {},
   "outputs": [
    {
     "name": "stdout",
     "output_type": "stream",
     "text": [
      "Media muestral\t\t\t= 0.09\n",
      "Desviación estándar muestral\t= 0.94\n",
      "Mediana muestral\t\t= -0.00\n"
     ]
    }
   ],
   "source": [
    "# Estadísticos de la muestra poblacional aleatoria \"muestra2\"\n",
    "estadistico_media = muestra2.mean()\n",
    "\n",
    "# La desvisción estándar para muestras se denomina \"desviación estándar insesgada\" ya que se calcula dividiendo\n",
    "# por (n - 1)\n",
    "estadistico_std = muestra2.std(ddof=1)\n",
    "print('Media muestral\\t\\t\\t= {:4.2f}'.format(estadistico_media))\n",
    "print('Desviación estándar muestral\\t= {:4.2f}'.format(estadistico_std))\n",
    "print('Mediana muestral\\t\\t= {:4.2f}'.format(np.median(muestra2)))"
   ]
  },
  {
   "cell_type": "markdown",
   "metadata": {},
   "source": [
    "**Observación**<br>\n",
    "La desviaión estándar muestral se denota con el símbolo: <font color='blue'>$S$</font>  o <font color='blue'>$\\widehat{\\sigma}$</font>\n",
    "\n",
    "La media muestral se denota con el símbolo: <font color='blue'>$\\overline{X}$</font>  o <font color='blue'>$\\widehat{\\mu}$</font>\n",
    "\n",
    "\n",
    "<font color='red'>**** Incluir formula**</font>\n",
    "\n",
    "\n",
    "\n",
    "\n"
   ]
  },
  {
   "cell_type": "markdown",
   "metadata": {},
   "source": [
    "## Error muestral\n",
    "Es la diferencia entre el valor del **parámetro poblacional** y el producido por el **estadístico muestral**.\n",
    "\n",
    "Se concluye fácilmente que una buena técnica de muestreo reduce el error muestral del estimador."
   ]
  },
  {
   "cell_type": "code",
   "execution_count": 14,
   "metadata": {},
   "outputs": [
    {
     "name": "stdout",
     "output_type": "stream",
     "text": [
      "Media población\t= -0.14\n",
      "Media muestra1\t= 0.18\n",
      "Media muestra2\t= 0.09\n"
     ]
    }
   ],
   "source": [
    "print('Media población\\t= {:4.2f}'.format(np.mean(poblacion)))\n",
    "print('Media muestra1\\t= {:4.2f}'.format(np.mean(muestra1)))\n",
    "print('Media muestra2\\t= {:4.2f}'.format(np.mean(muestra2)))"
   ]
  },
  {
   "cell_type": "markdown",
   "metadata": {},
   "source": [
    "Grafiquemos el error muestral"
   ]
  },
  {
   "cell_type": "code",
   "execution_count": 16,
   "metadata": {},
   "outputs": [
    {
     "data": {
      "image/png": "[encoded data removed]",
      "text/plain": [
       "<matplotlib.figure.Figure at 0x1a09990358>"
      ]
     },
     "metadata": {},
     "output_type": "display_data"
    }
   ],
   "source": [
    "# Declara lista1 con 3 valores de medias\n",
    "lista1 = [np.mean(poblacion),np.mean(muestra1),np.mean(muestra2)]  \n",
    "# Declara lista2 con 3 nombres\n",
    "lista2 = ['Media Poblacional','Media Muestra 1','Media Muestra 2'] \n",
    "plt.figure(figsize=(10, 5))\n",
    "plt.bar(lista2, lista1, color='g')   # Dibuja el gráfico\n",
    "plt.title(\"Error muestral\")   # Establece el título del gráfico\n",
    "plt.xlabel(\"Grupo\")   # Establece el título del eje x \n",
    "plt.ylabel(\"Valor\")   # Establece el título del eje y\n",
    "plt.show()"
   ]
  },
  {
   "cell_type": "markdown",
   "metadata": {},
   "source": [
    "<font color='blue'>Conclusión: </font>Se concluye que el error muestral se explica por la técnica de muestreo y el tamaño de la muestra."
   ]
  },
  {
   "cell_type": "markdown",
   "metadata": {},
   "source": [
    "## Distribuciones estadísticas"
   ]
  },
  {
   "cell_type": "markdown",
   "metadata": {},
   "source": [
    "### Normal\n",
    "\n",
    "Las distribuciones normales representan más del 50% de los fenomenos industriales estudiados. Esta distribución es de carácter continuo (no discreta).\n",
    "\n",
    "Los parámetros de media, mediana y moda en una distribución normal son iguales.\n",
    "\n",
    "La media corresponde al punto en la curva en el cual la perdiente (primera derivada) es cero, y la desviación estándar corresponde a la diferencia de los valores entre el punto de la media y el punto en la curva en los cuales la pendiente cambia de signo.\n",
    "\n",
    "A considerar:\n",
    "* Entre el primer **sigma** ($\\sigma$) positivo y el primer **sigma** negativo se encuentra el 68% de los casos.\n",
    "* Entre el segundo **sigma** positivo y el segundo **sigma** negativo se encuentra el 95,5% de los casos. \n",
    "* Entre el tercer **sigma** positivo y el tercer **sigma** negativo se encuentra el 99,73% de los casos."
   ]
  },
  {
   "cell_type": "code",
   "execution_count": 18,
   "metadata": {},
   "outputs": [
    {
     "name": "stdout",
     "output_type": "stream",
     "text": [
      "[ 1.62434536 -0.61175641 -0.52817175 -1.07296862  0.86540763 -2.3015387\n",
      "  1.74481176 -0.7612069   0.3190391  -0.24937038  1.46210794 -2.06014071\n",
      " -0.3224172  -0.38405435  1.13376944 -1.09989127 -0.17242821 -0.87785842\n",
      "  0.04221375  0.58281521 -1.10061918  1.14472371  0.90159072  0.50249434\n",
      "  0.90085595 -0.68372786 -0.12289023 -0.93576943 -0.26788808  0.53035547\n",
      " -0.69166075 -0.39675353 -0.6871727  -0.84520564 -0.67124613 -0.0126646\n",
      " -1.11731035  0.2344157   1.65980218  0.74204416 -0.19183555 -0.88762896\n",
      " -0.74715829  1.6924546   0.05080775 -0.63699565  0.19091548  2.10025514\n",
      "  0.12015895  0.61720311  0.30017032 -0.35224985 -1.1425182  -0.34934272\n",
      " -0.20889423  0.58662319  0.83898341  0.93110208  0.28558733  0.88514116\n",
      " -0.75439794  1.25286816  0.51292982 -0.29809284  0.48851815 -0.07557171\n",
      "  1.13162939  1.51981682  2.18557541 -1.39649634 -1.44411381 -0.50446586\n",
      "  0.16003707  0.87616892  0.31563495 -2.02220122 -0.30620401  0.82797464\n",
      "  0.23009474  0.76201118 -0.22232814 -0.20075807  0.18656139  0.41005165\n",
      "  0.19829972  0.11900865 -0.67066229  0.37756379  0.12182127  1.12948391\n",
      "  1.19891788  0.18515642 -0.37528495 -0.63873041  0.42349435  0.07734007\n",
      " -0.34385368  0.04359686 -0.62000084  0.69803203]\n"
     ]
    }
   ],
   "source": [
    "np.random.seed(1)\n",
    "# Generamos la población con la semilla creada\n",
    "# donde: np.random.normal(media, sigma, size)\n",
    "normal = np.random.normal(0, 1.0, 1000) \n",
    "print(normal[:100])"
   ]
  },
  {
   "cell_type": "code",
   "execution_count": 19,
   "metadata": {
    "scrolled": true
   },
   "outputs": [
    {
     "data": {
      "image/png": "[encoded data removed]",
      "text/plain": [
       "<matplotlib.figure.Figure at 0x1a09958160>"
      ]
     },
     "metadata": {},
     "output_type": "display_data"
    }
   ],
   "source": [
    "# Hagamos un Histograma (gráfica de frecuencias) donde: \n",
    "# Eje X: las clases de la variable estudiada\n",
    "# Eje Y: la frecuencia absoluta de cada clase\n",
    "\n",
    "plt.figure(figsize=(10, 5))\n",
    "plt.hist(normal, 50, color='r')\n",
    "plt.show()"
   ]
  },
  {
   "cell_type": "code",
   "execution_count": 20,
   "metadata": {},
   "outputs": [
    {
     "name": "stdout",
     "output_type": "stream",
     "text": [
      "Media poblacional\t\t= 0.04\n",
      "Desviación estándar poblacional\t= 0.98\n",
      "Mediana poblacional\t\t= 0.04\n"
     ]
    }
   ],
   "source": [
    "# Calculemos los parámetros de la población\n",
    "print('Media poblacional\\t\\t= {:4.2f}'.format(normal.mean()))\n",
    "print('Desviación estándar poblacional\\t= {:4.2f}'.format(normal.std()))\n",
    "print('Mediana poblacional\\t\\t= {:4.2f}'.format(np.median(normal)))"
   ]
  },
  {
   "cell_type": "markdown",
   "metadata": {},
   "source": [
    "### Test de Anderson-Darling\n",
    "Para comprobar si los datos de nuestra población o muestra siguen una distribución **normal**, utilizaremos un test de normalidad denominado **Anderson-Darling**, el cual  evalúa la hipótesis (y su correspondiente hipótesis nula) de que los datos siguen una distribuión normal:\n",
    "\n",
    "* H$_0$ :: los datos siguen una distribución normal \n",
    "* H$_1$ :: los datos NO siguen una distribución normal\n",
    "\n",
    "Si el valor arrojado (Test estadístico de Anderson-Darling) es menor al valor crítico dado para un cierto nivel de significanci (e.g.: 5%), se acepta la hipótesis H$_0$, i.e., los datos tienen una distribución normal."
   ]
  },
  {
   "cell_type": "code",
   "execution_count": 21,
   "metadata": {},
   "outputs": [
    {
     "data": {
      "text/plain": [
       "AndersonResult(statistic=0.37034000708831627, critical_values=array([0.574, 0.653, 0.784, 0.914, 1.088]), significance_level=array([15. , 10. ,  5. ,  2.5,  1. ]))"
      ]
     },
     "execution_count": 21,
     "metadata": {},
     "output_type": "execute_result"
    }
   ],
   "source": [
    "# Ejecutar Test de normalidad\n",
    "stats.anderson(normal, dist='norm')"
   ]
  },
  {
   "cell_type": "markdown",
   "metadata": {},
   "source": [
    "<font color='blue'>Conclusión:</font> el resultado del test arroja 0.37, el cual es menor a 0.784 (a nivel de significancia de un 5%), se concluye que los datos tiene una distribución normal."
   ]
  },
  {
   "cell_type": "markdown",
   "metadata": {},
   "source": [
    "Debido a que es Normal, podemos calcular la probabilidad usando la **Tabla Z** acumulada (normalización) \n",
    "¿Cuál es la probabilidad de que tomemos un elemento al azar y este sea menor a 2? Para responder esto usaremos la siguiente fórmula:\n",
    "\n",
    "\n",
    "$Z = \\frac{(x - \\mu)}{\\sigma}$"
   ]
  },
  {
   "cell_type": "code",
   "execution_count": 164,
   "metadata": {},
   "outputs": [
    {
     "data": {
      "text/plain": [
       "0.9772046594224421"
      ]
     },
     "execution_count": 164,
     "metadata": {},
     "output_type": "execute_result"
    }
   ],
   "source": [
    "x = 2 # Valor al que queremos calcular su probabilidad acumulada\n",
    "mu = np.mean(normal) \n",
    "sigma = np.std(normal)\n",
    "Z = (x - mu) / sigma\n",
    "stats.norm.cdf(Z) # Probabilidad acumulada de infinito negativo al valor buscado"
   ]
  },
  {
   "cell_type": "markdown",
   "metadata": {},
   "source": [
    "¿Cuál es la probabilidad de que tomemos un elemento al azar y éste se encuentre entre -2 y 2?\n",
    "\n",
    "$Z_1 = \\frac{(x_1 - \\mu)}{\\sigma}$\n",
    "\n",
    "$Z_2 = \\frac{(x_2 - \\mu)}{\\sigma}$"
   ]
  },
  {
   "cell_type": "code",
   "execution_count": 22,
   "metadata": {},
   "outputs": [
    {
     "data": {
      "text/plain": [
       "0.958363396384192"
      ]
     },
     "execution_count": 22,
     "metadata": {},
     "output_type": "execute_result"
    }
   ],
   "source": [
    "\n",
    "\n",
    "x1 = -2 # Valor al que queremos calcular su probabilidad acumulada\n",
    "x2 = 2 # Valor al que queremos calcular su probabilidad acumulada\n",
    "mu = np.mean(normal) \n",
    "sigma = np.std(normal)\n",
    "z1 = (x1 - mu)/ sigma\n",
    "z2 = (x2 - mu)/ sigma\n",
    "\n",
    "stats.norm.cdf(z2) - stats.norm.cdf(z1) # Probabilidad es la resta de 2 probabilidades"
   ]
  },
  {
   "cell_type": "markdown",
   "metadata": {},
   "source": [
    "### Poisson\n",
    "\n",
    "La distribución **Poisson** se utiliza para contar de forma \"discreta\". Por ejemplo: cantidad de hijos, personas en una fila, camiones entrando a puerto, DPU (defector por unidad), pérdida de maletas por vuelo, etc.\n",
    "\n",
    "Crearemos una distribución del tipo Poisson aleatoria en la cual se utilizan dos parámetros:\n",
    "\n",
    "* $\\color{red}{\\lambda}$ (lambda) :: representa a la media de la población o muestra (e.g.: cantidad de personas promedio que llegana una cola de un banco por unidad de tiempo (hora)\n",
    "* $\\color{red}n$ :: tamaño de la población o muetra según el caso\n",
    "\n",
    "Nota:\n",
    "* La media de una distribución Poisson es $\\color{red}{\\lambda}$\n",
    "* La desviación estándar es $\\color{red}{\\sqrt{\\lambda}}$"
   ]
  },
  {
   "cell_type": "code",
   "execution_count": 23,
   "metadata": {},
   "outputs": [
    {
     "data": {
      "text/plain": [
       "array([ 88,  78,  80,  87,  88,  81,  88,  78,  85,  74,  80,  75, 114,\n",
       "        95,  95,  84,  76, 105,  84,  81,  90,  92,  92,  76,  95,  69,\n",
       "        95, 110, 105,  78,  87, 107,  97, 103,  97,  83,  88,  95,  77,\n",
       "        89,  87, 105,  85, 103, 105,  80, 108,  72,  96, 102,  91,  77,\n",
       "        92,  92,  99,  99, 102,  91,  71,  67,  82,  92,  92,  83,  81,\n",
       "        82,  93,  79,  72,  93,  92,  91,  95,  72,  94,  97,  83,  81,\n",
       "        91,  83,  97,  93, 111, 106,  87,  93, 107,  87,  80,  78, 100,\n",
       "        80,  78,  86,  92,  89,  99,  90,  88,  85])"
      ]
     },
     "execution_count": 23,
     "metadata": {},
     "output_type": "execute_result"
    }
   ],
   "source": [
    "# Generamos los datos aleatorios con semilla (seed) igual 1\n",
    "# lam = lambda\n",
    "lam = 90\n",
    "size = 100\n",
    "poisson = np.random.RandomState(seed=1).poisson(lam=lam, size=size)\n",
    "poisson"
   ]
  },
  {
   "cell_type": "code",
   "execution_count": 24,
   "metadata": {},
   "outputs": [
    {
     "name": "stdout",
     "output_type": "stream",
     "text": [
      "Media poblacional\t\t= 89.19\n",
      "Desviación estándar poblacional\t= 10.29\n",
      "Mediana poblacional\t\t= 89.00\n",
      "Moda poblacional es 92 y se repite 8 veces\n"
     ]
    }
   ],
   "source": [
    "# Calculamos los parámetros:\n",
    "print('Media poblacional\\t\\t= {:4.2f}'.format(poisson.mean()))\n",
    "print('Desviación estándar poblacional\\t= {:4.2f}'.format(poisson.std()))\n",
    "print('Mediana poblacional\\t\\t= {:4.2f}'.format(np.median(poisson)))\n",
    "print('Moda poblacional es {} y se repite {} veces'.format(str(stats.mode(poisson)[0][0]),\n",
    "                                              str(stats.mode(poisson)[1][0])))\n"
   ]
  },
  {
   "cell_type": "code",
   "execution_count": 25,
   "metadata": {},
   "outputs": [
    {
     "data": {
      "text/plain": [
       "AndersonResult(statistic=0.3464057940154106, critical_values=array([0.555, 0.632, 0.759, 0.885, 1.053]), significance_level=array([15. , 10. ,  5. ,  2.5,  1. ]))"
      ]
     },
     "execution_count": 25,
     "metadata": {},
     "output_type": "execute_result"
    }
   ],
   "source": [
    "# Ejecutar Test de normalidad\n",
    "stats.anderson(poisson, dist='norm')"
   ]
  },
  {
   "cell_type": "markdown",
   "metadata": {},
   "source": [
    "En test anterior el valor arrojado es **0,346**, como este valor es menor a 0,885 (para alfa=5%), se puede concluir que los datos siguen una distribucón normal con 95% de seguridad.\n",
    "\n",
    "Por tanto, la evidencia práctica demuestra que las **distribuciones Poisson** se comportan como **Normales** cuando su lambda es grande.\n",
    "\n",
    "Veamos un gráfico de frecuencias para observar si visualmente sigue una forma gaussiana simñetrica:"
   ]
  },
  {
   "cell_type": "code",
   "execution_count": 26,
   "metadata": {},
   "outputs": [
    {
     "data": {
      "image/png": "[encoded data removed]",
      "text/plain": [
       "<matplotlib.figure.Figure at 0x1a12916400>"
      ]
     },
     "metadata": {},
     "output_type": "display_data"
    }
   ],
   "source": [
    "# Realizando el histograma de Poisson con lambda = 90\n",
    "plt.figure(figsize=(10, 5))\n",
    "plt.hist(poisson, 12, color='r')\n",
    "plt.show()"
   ]
  },
  {
   "cell_type": "markdown",
   "metadata": {},
   "source": [
    "Lo anterior podría ser el caso de \"cantidad de clientes que llegan a una cola de un banco por cada intervalo de media hora\". <br> Si el banco dotara su sistema de atención basado en la media, tendría problemas para alcanzar su meta de Nivel de Servicio Acordado (e.g.: 85% de los clientes atendidos antes de 4 minutos)."
   ]
  },
  {
   "cell_type": "markdown",
   "metadata": {},
   "source": [
    "Probemos con una Poisson con un Lambda muy pequeño; por ejemplo 1.2 (e.g.: cantidad de hijos por alumnos en esta clase)"
   ]
  },
  {
   "cell_type": "code",
   "execution_count": 28,
   "metadata": {},
   "outputs": [
    {
     "data": {
      "text/plain": [
       "array([1, 0, 1, 0, 0, 1, 1, 1, 1, 1, 1, 0, 2, 3, 0, 0, 1, 2, 1, 2, 3, 1,\n",
       "       2, 0, 0, 0, 1, 0, 1, 1, 2, 1, 1, 2, 3, 0, 2, 2, 3, 1, 3, 1, 2, 1,\n",
       "       2, 1, 2, 2, 3, 0, 2, 4, 0, 0, 0, 0, 2, 1, 0, 3, 1, 2, 2, 0, 0, 0,\n",
       "       0, 0, 2, 0, 2, 0, 1, 3, 2, 0, 0, 0, 1, 1, 2, 2, 0, 0, 1, 0, 1, 0,\n",
       "       1, 3, 0, 4, 0, 4, 1, 1, 3, 1, 0, 0])"
      ]
     },
     "execution_count": 28,
     "metadata": {},
     "output_type": "execute_result"
    }
   ],
   "source": [
    "lam = 1.2\n",
    "size = 1000\n",
    "poisson2 = np.random.RandomState(seed=1).poisson(lam=lam, size=size)\n",
    "poisson2[:100]"
   ]
  },
  {
   "cell_type": "code",
   "execution_count": 29,
   "metadata": {},
   "outputs": [
    {
     "name": "stdout",
     "output_type": "stream",
     "text": [
      "Media poblacional\t\t= 1.22\n",
      "Desviación estándar poblacional\t= 1.09\n",
      "Mediana poblacional\t\t= 1.00\n",
      "Moda poblacional es 1 y se repite 345 veces\n"
     ]
    }
   ],
   "source": [
    "print('Media poblacional\\t\\t= {:4.2f}'.format(poisson2.mean()))\n",
    "print('Desviación estándar poblacional\\t= {:4.2f}'.format(poisson2.std()))\n",
    "print('Mediana poblacional\\t\\t= {:4.2f}'.format(np.median(poisson2)))\n",
    "print('Moda poblacional es {} y se repite {} veces'.format(str(stats.mode(poisson2)[0][0]),\n",
    "                                              str(stats.mode(poisson2)[1][0])))\n"
   ]
  },
  {
   "cell_type": "code",
   "execution_count": 30,
   "metadata": {},
   "outputs": [
    {
     "data": {
      "text/plain": [
       "AndersonResult(statistic=47.031543197659175, critical_values=array([0.574, 0.653, 0.784, 0.914, 1.088]), significance_level=array([15. , 10. ,  5. ,  2.5,  1. ]))"
      ]
     },
     "execution_count": 30,
     "metadata": {},
     "output_type": "execute_result"
    }
   ],
   "source": [
    "# Ejecutar test de normalidad\n",
    "stats.anderson(poisson2, dist='norm')"
   ]
  },
  {
   "cell_type": "markdown",
   "metadata": {},
   "source": [
    "El valor del test es **47,03**, debido a que no es menor a 0,784, no podemos concluir que los datos siguen una distribución normal.\n",
    "\n",
    "Veamos su histograma:"
   ]
  },
  {
   "cell_type": "code",
   "execution_count": 31,
   "metadata": {},
   "outputs": [
    {
     "data": {
      "image/png": "[encoded data removed]",
      "text/plain": [
       "<matplotlib.figure.Figure at 0x1a12aca748>"
      ]
     },
     "metadata": {},
     "output_type": "display_data"
    }
   ],
   "source": [
    "# Realizando el histograma de Poisson con lambda = 1,2\n",
    "plt.figure(figsize=(10, 5))\n",
    "plt.hist(poisson2, 12, color='r')\n",
    "plt.show()"
   ]
  },
  {
   "cell_type": "markdown",
   "metadata": {},
   "source": [
    "**TIPs:** La media es un indicador pobre si no se encuentra acompañada de la varianza, o de la probabilidad de ser alcanzada."
   ]
  },
  {
   "cell_type": "markdown",
   "metadata": {},
   "source": [
    "### Gamma\n",
    "\n",
    "La distribución **Gamma** se utiliza con variables continuas (no discretas) que siguen una forma asimétrica (no normales). Ejemplos de fenómenos que se describen con esta distribución son: tiempo de duración procesos o ciclos productivos, vida útil de baterías y componentes eléctricos, vida de los seres vivos, caducidad de bienes perecibles, tiempo entre llegadas de pedidos de clientes, etc.\n",
    "\n",
    "Crearemos una distribución del tipo Gamma aleatoria en la cual se utilizan dos parámetros:\n",
    "\n",
    "* $\\color{red} \\alpha$ :: representa el parámetro de la forma\n",
    "* $\\color{red} \\beta$ :: representa el parámetro de la escala\n",
    "* $\\color{red}n$ :: tamaño de la población o muetra según el caso\n",
    "\n",
    "Nota:\n",
    "* La media de una distribución Gamma se calcula $\\color{red}{\\alpha * \\beta}$\n",
    "* La desviación estándar es $\\color{red}{\\sqrt{\\alpha} * \\beta}$\n"
   ]
  },
  {
   "cell_type": "code",
   "execution_count": 32,
   "metadata": {},
   "outputs": [],
   "source": [
    "def d_gamma(alfa, beta, n):\n",
    "    return np.random.RandomState().gamma(alfa, beta, n)"
   ]
  },
  {
   "cell_type": "code",
   "execution_count": 33,
   "metadata": {},
   "outputs": [],
   "source": [
    "alfa = 1\n",
    "beta = 3\n",
    "n = 1000\n",
    "gamma = d_gamma(alfa, beta, n)"
   ]
  },
  {
   "cell_type": "code",
   "execution_count": 35,
   "metadata": {},
   "outputs": [
    {
     "data": {
      "image/png": "[encoded data removed]",
      "text/plain": [
       "<matplotlib.figure.Figure at 0x1a12d1c710>"
      ]
     },
     "metadata": {},
     "output_type": "display_data"
    }
   ],
   "source": [
    "import scipy.special as sps\n",
    "plt.figure(figsize=(10, 5))\n",
    "\n",
    "count, bins, ignored = plt.hist(gamma, 20, normed=True, color='g')\n",
    "y = (bins-1)**(alfa-1)*(np.exp(-bins/beta) / (sps.gamma(alfa)*beta**alfa))\n",
    "plt.plot( y, linewidth=2, color='r')\n",
    "plt.show()"
   ]
  },
  {
   "cell_type": "code",
   "execution_count": 36,
   "metadata": {},
   "outputs": [],
   "source": [
    "x = np.linspace(0, 50, num=51)"
   ]
  },
  {
   "cell_type": "code",
   "execution_count": 38,
   "metadata": {},
   "outputs": [
    {
     "data": {
      "image/png": "[encoded data removed]",
      "text/plain": [
       "<matplotlib.figure.Figure at 0x1a12fb7208>"
      ]
     },
     "metadata": {},
     "output_type": "display_data"
    }
   ],
   "source": [
    "alfa = 1\n",
    "beta = 3\n",
    "alfa2 = 1\n",
    "beta2 = 8\n",
    "alfa3 = 2\n",
    "beta3 = 3\n",
    "plt.figure(figsize=(10,5))\n",
    "y = x**(alfa-1)*(np.exp(-x/beta) / (sps.gamma(alfa)*beta**alfa))\n",
    "plt.plot(x, y, linewidth=1, color='r')\n",
    "\n",
    "y2 = x**(alfa2-1)*(np.exp(-x/beta2) / (sps.gamma(alfa2)*beta2**alfa2))\n",
    "plt.plot(x, y2, linewidth=1, color='g')\n",
    "\n",
    "y3 = x**(alfa3-1)*(np.exp(-x/beta3) / (sps.gamma(alfa3)*beta3**alfa3))\n",
    "plt.plot(x, y3, linewidth=1, color='b')\n",
    "\n",
    "plt.show()"
   ]
  },
  {
   "cell_type": "markdown",
   "metadata": {},
   "source": [
    "## Teorema del límite central\n"
   ]
  },
  {
   "cell_type": "code",
   "execution_count": 39,
   "metadata": {},
   "outputs": [],
   "source": [
    "def tlc(población, n_muestras, t_muestra):\n",
    "    # n_muestras :: Cantidad de muestras a obtener\n",
    "    # t_muestra :: Tamaño de las muestras\n",
    "    medias = []\n",
    "    for i in range(0, n_muestras):\n",
    "        muestra = np.random.choice(población, t_muestra)\n",
    "        medias.append(muestra.mean())\n",
    "    return medias"
   ]
  },
  {
   "cell_type": "code",
   "execution_count": 40,
   "metadata": {},
   "outputs": [
    {
     "data": {
      "image/png": "[encoded data removed]",
      "text/plain": [
       "<matplotlib.figure.Figure at 0x1a12d66748>"
      ]
     },
     "metadata": {},
     "output_type": "display_data"
    }
   ],
   "source": [
    "plt.figure(figsize=(10,5))\n",
    "\n",
    "medias = tlc(poisson2, 30, 3)\n",
    "plt.hist(medias, 12, color='r')\n",
    "plt.xticks(range(0,8,1))\n",
    "plt.show()"
   ]
  },
  {
   "cell_type": "code",
   "execution_count": 41,
   "metadata": {},
   "outputs": [
    {
     "data": {
      "image/png": "[encoded data removed]",
      "text/plain": [
       "<matplotlib.figure.Figure at 0x1a13098438>"
      ]
     },
     "metadata": {},
     "output_type": "display_data"
    }
   ],
   "source": [
    "plt.figure(figsize=(10,5))\n",
    "medias = tlc(poisson2, 30, 305)\n",
    "plt.hist(medias, 12, color='r')\n",
    "plt.xticks(range(0,8,1))\n",
    "plt.show()"
   ]
  },
  {
   "cell_type": "markdown",
   "metadata": {},
   "source": [
    "## Intervalos de confianza:\n",
    "Como se mencionó anteriormente un estadístico es un estimador de un parámetro poblacional. Un estimador sencillo es el que hemos calculado anteriormente con las muestras, cuando sólo tenemos un valor, a este se le llama estimador puntual.\n",
    "\n",
    "Un buen estimador debe ser **insesgado** (cuando la media de su distribución muestral asociada coincide con la media de la población) y de **varianza mínima** (bajo sigma de las medias muestrales).  El sigma de las medias muestrales fue comentado en TLC, donde: sigma medias muestrales = sigma pobblación /raiz(n). Observar que cuanto mayor sea el tamaño de la muestra n , menor será la variabilidad del estimador de la media poblacional.\n",
    "\n",
    "Sabemos por TLC que para valores grandes de n, independiente de la distribución estadística que tenga su población, la media muestral sigue una distribución normal con media (Xbarra Barra) y sigma (sigma poblacional/raiz(n)).\n",
    "Por otra parte, el Teorema de Chebyshev nos dice que, en una distribución normal, aproximadamente un 95% de los datos estaban situados a una distancia inferior a dos desviaciones estándar de la media. \n",
    "\n",
    "**Intervalos de confianza:** es un par o varios pares de números entre los cuales se estima que estará cierto valor desconocido con una determinada probabilidad de acierto. Formalmente, estos números determinan un intervalo, que se calcula a partir de datos de una muestra, y el valor desconocido es un parámetro poblacional. La probabilidad de éxito en la estimación se representa con 1 - α y se denomina nivel de confianza. En estas circunstancias, α es el llamado error aleatorio o nivel de significación, esto es, una medida de las posibilidades de fallar en la estimación mediante tal intervalo.\n",
    "    \n",
    "    \n",
    "    "
   ]
  },
  {
   "cell_type": "markdown",
   "metadata": {},
   "source": [
    "1) Intervalo de confianza para medias cuando *sigma* poblacional es conocido o la muestra es mayor a 120"
   ]
  },
  {
   "cell_type": "code",
   "execution_count": 45,
   "metadata": {},
   "outputs": [
    {
     "name": "stdout",
     "output_type": "stream",
     "text": [
      "LI \t\t\t= 21.95\n",
      "LS \t\t\t= 22.45\n",
      "Nivel de confianza (NC) = 0.95\n"
     ]
    }
   ],
   "source": [
    "# Estimador de medias cuando Sigma poblacional es conocido o la muestra es mayor a 120\n",
    "# Entonces usar Tabla Z (Normal)\n",
    "# Mu +- Z(1- α/2)* Sigma poblacional / raiz (n)\n",
    "# Ejemplo 1: queremos estimar la media poblacional con un 95% de seguridad, sabemos que la muestra que manejamos tiene 130 casos,\n",
    "# y su media muestral es 22.2 y el sigma muestral es 1.45\n",
    "\n",
    "n = 130\n",
    "Xbarra = 22.2\n",
    "S = 1.45\n",
    "NC = 0.95 # nivel de confianza\n",
    "alfa = 1 - NC # nivel de significación\n",
    "Z = stats.norm.ppf(1-(alfa/2)) # Z(1- α/2) \"aplicando inversa de 2 colas\"\n",
    "\n",
    "LI = Xbarra - Z*S/(math.sqrt(n)) # Límite inferior del IC\n",
    "LS = Xbarra + Z*S/(math.sqrt(n)) # Límite superior del IC\n",
    "\n",
    "print('LI \\t\\t\\t= {:4.2f}'.format(LI))\n",
    "print('LS \\t\\t\\t= {:4.2f}'.format(LS))\n",
    "print('Nivel de confianza (NC) = {:4.2f}'.format(NC))"
   ]
  },
  {
   "cell_type": "code",
   "execution_count": 46,
   "metadata": {},
   "outputs": [
    {
     "name": "stdout",
     "output_type": "stream",
     "text": [
      "LI \t\t\t= 21.68\n",
      "LS \t\t\t= 22.72\n",
      "Nivel de confianza (NC) = 0.95\n"
     ]
    }
   ],
   "source": [
    "# Estimador de medias cuando Sigma poblacional es conocido o la muestra es mayor a 120\n",
    "# Entonces usar Tabla Z (Normal)\n",
    "# Mu +- Z(1- α/2)* Sigma poblacional / raiz (n)\n",
    "# Ejemplo 2: queremos estimar la media poblacional con un 95% de seguridad, sabemos que la muestra que manejamos tiene 35 casos,\n",
    "# y su media muestral es 22.2 y el sigma muestral es 1.45\n",
    "# pero nos dicen que la desviación estandar poblacional es de 1.56\n",
    "\n",
    "n = 35\n",
    "Xbarra = 22.2\n",
    "S = 1.45 # No usar este\n",
    "Sigma = 1.56 # Usar este valor\n",
    "NC = 0.95 # nivel de confianza\n",
    "alfa = 1-NC # nivel de significación\n",
    "Z = stats.norm.ppf(1-(alfa/2)) # Z(1- α/2) \"aplicando inversa de 2 colas\"\n",
    "\n",
    "LI = Xbarra - Z*Sigma/(math.sqrt(n)) # Límite inferior del IC\n",
    "LS = Xbarra + Z*Sigma/(math.sqrt(n)) # Límite superior del IC\n",
    "\n",
    "print('LI \\t\\t\\t= {:4.2f}'.format(LI))\n",
    "print('LS \\t\\t\\t= {:4.2f}'.format(LS))\n",
    "print('Nivel de confianza (NC) = {:4.2f}'.format(NC))"
   ]
  },
  {
   "cell_type": "markdown",
   "metadata": {},
   "source": [
    "2) cuando Sigma poblacional es desconocido y la muestra es menor a 120"
   ]
  },
  {
   "cell_type": "code",
   "execution_count": 47,
   "metadata": {},
   "outputs": [
    {
     "name": "stdout",
     "output_type": "stream",
     "text": [
      "LI \t\t\t= 21.74\n",
      "LS \t\t\t= 22.66\n",
      "Nivel de confianza (NC) = 0.95\n"
     ]
    }
   ],
   "source": [
    "# Estimador de medias cuando Sigma poblacional es desconocido y la muestra es menor a 120\n",
    "# Entonces usar Tabla T (Student)\n",
    "# Mu +- T(1- α/2; n-gl) * S / raiz (n)\n",
    "# Ejemplo 1: queremos estimar la media poblacional con un 95% de seguridad, sabemos que la muestra que manejamos tiene 40 casos,\n",
    "# y su media muestral es 22.2 y el sigma muestral es 1.45\n",
    "\n",
    "n = 40\n",
    "Xbarra = 22.2\n",
    "S = 1.45\n",
    "NC = 0.95 # nivel de confianza\n",
    "alfa = 1-NC # nivel de significación\n",
    "gl = n-1 # grados de libertad\n",
    "T = stats.t.ppf(1-(alfa/2),n) # T(1- α/2; n-gl) \"aplicando inversa de 2 colas\"\n",
    "\n",
    "LI = Xbarra - T*S/(math.sqrt(n)) # Límite inferior del IC\n",
    "LS = Xbarra + T*S/(math.sqrt(n)) # Límite superior del IC\n",
    "\n",
    "print('LI \\t\\t\\t= {:4.2f}'.format(LI))\n",
    "print('LS \\t\\t\\t= {:4.2f}'.format(LS))\n",
    "print('Nivel de confianza (NC) = {:4.2f}'.format(NC))"
   ]
  },
  {
   "cell_type": "markdown",
   "metadata": {},
   "source": [
    " ### ¿Qué pasa si queremos estimar proporciones?\n",
    " R: aplicar método 1 si np>=5, \n",
    " donde:\n",
    " Xbarra = p\n",
    " S = raiz (p*1-p)\n",
    " \n",
    "\n",
    " "
   ]
  },
  {
   "cell_type": "markdown",
   "metadata": {},
   "source": [
    "## Correlación\n",
    "\n",
    "La correlación trata de establecer la relación o dependencia que existe entre las dos variables que intervienen en una distribución bidimensional. Es decir, determinar si los cambios en una de las variables influyen en los cambios de la otra. En caso de que suceda, diremos que las variables están correlacionadas o que hay correlación entre ellas. La correlación es positiva cuando los valores de las variables aumenta juntos; y es negativa cuando un valor de una variable se reduce cuando el valor de la otra variable aumenta."
   ]
  },
  {
   "cell_type": "markdown",
   "metadata": {},
   "source": [
    "## Percentiles\n",
    "El percentil es una medida de posición usada en estadística que indica, una vez ordenados los datos de menor a mayor, el valor de la variable por debajo del cual se encuentra un porcentaje dado de observaciones en un grupo de observaciones. <br>\n",
    "Por ejemplo, el percentil 75º es el valor bajo el cual se encuentran el 75 por ciento de las observaciones."
   ]
  },
  {
   "cell_type": "code",
   "execution_count": 125,
   "metadata": {},
   "outputs": [
    {
     "data": {
      "image/png": "[encoded data removed]",
      "text/plain": [
       "<matplotlib.figure.Figure at 0x1a1f302438>"
      ]
     },
     "metadata": {},
     "output_type": "display_data"
    }
   ],
   "source": [
    "datos = np.random.normal(0, 0.5, 10000)\n",
    "plt.figure(figsize=(10,5))\n",
    "plt.hist(datos, 100, color='r')\n",
    "plt.show()"
   ]
  },
  {
   "cell_type": "code",
   "execution_count": 128,
   "metadata": {},
   "outputs": [
    {
     "name": "stdout",
     "output_type": "stream",
     "text": [
      "El percentil 50 de los datos es: 0.01\n",
      "El percentil 75 de los datos es: 0.33\n",
      "El percentil 90 de los datos es: 0.64\n"
     ]
    }
   ],
   "source": [
    "print('El percentil 50 de los datos es: {:4.2f}'.format(np.percentile(datos, 50)))\n",
    "print('El percentil 75 de los datos es: {:4.2f}'.format(np.percentile(datos, 75)))\n",
    "print('El percentil 90 de los datos es: {:4.2f}'.format(np.percentile(datos, 90)))"
   ]
  },
  {
   "cell_type": "markdown",
   "metadata": {},
   "source": [
    "## Covarianza\n",
    "\n",
    "Covarianza: La covarianza es el equivalente de la varianza aplicado a una variable bidimensional. Es la media aritmética de los productos de las desviaciones de cada una de las variables respecto a sus medias respectivas.La covarianza indica el sentido de la correlación entre las variables:\n",
    "\n",
    "Si $\\sigma_{xy} > 0$ la correlación es directa \n",
    "\n",
    "Si $\\sigma_{xy} < 0$ la correlación es inversa\n",
    "\n",
    "La covarianza mide cómo dos variables varían en tándem de sus medias.\n",
    "Por ejemplo, supongamos que trabajamos para una empresa de comercio electrónico, y están interesados en encontrar una correlación entre la velocidad de *rendering* la página y cuánto gasta un cliente en dicha página.\n",
    "Numpy ofrece métodos de covarianza, pero lo haremos de la \"manera difícil\" de mostrar lo que ocurre debajo del capó. Básicamente tratamos cada variable como un vector de desviaciones de la media, y calculamos el \"producto punto\" de ambos vectores. Geométricamente, se puede considerar que este es el ángulo entre los dos vectores en un espacio de alta dimensión, pero solo se puede considerar como una medida de similitud entre las dos variables.\n",
    "Primero, hagamos que la velocidad de la página y la cantidad de compra sean totalmente aleatorias e independientes entre sí; se producirá una covarianza muy pequeña ya que no existe una correlación real:"
   ]
  },
  {
   "cell_type": "code",
   "execution_count": 113,
   "metadata": {},
   "outputs": [
    {
     "data": {
      "text/plain": [
       "<matplotlib.collections.PathCollection at 0x1a1d10a780>"
      ]
     },
     "execution_count": 113,
     "metadata": {},
     "output_type": "execute_result"
    },
    {
     "data": {
      "image/png": "[encoded data removed]",
      "text/plain": [
       "<matplotlib.figure.Figure at 0x1a1d36c278>"
      ]
     },
     "metadata": {},
     "output_type": "display_data"
    }
   ],
   "source": [
    "import numpy as np\n",
    "#from pylab import *\n",
    "\n",
    "def desv_media(x):\n",
    "    media_x = mean(x)\n",
    "    return [xi - media_x for xi in x]\n",
    "\n",
    "def covarianza(x, y):\n",
    "    n = len(x)\n",
    "    return dot(desv_media(x), desv_media(y)) / (n-1)\n",
    "\n",
    "plt.figure(figsize=(10,5))\n",
    "\n",
    "tiempoRender= np.random.normal(3.0, 1.0, 1000)\n",
    "cantidadComprada = np.random.normal(50.0, 10.0, 1000)\n",
    "\n",
    "plt.scatter(tiempoRender, cantidadComprada, alpha=0.5, s=5, color='g')"
   ]
  },
  {
   "cell_type": "code",
   "execution_count": 115,
   "metadata": {},
   "outputs": [
    {
     "name": "stdout",
     "output_type": "stream",
     "text": [
      "Covarianza entre el tiempo de rendering y cantidad gastada = -0.59\n"
     ]
    }
   ],
   "source": [
    "# Calculemos la covarianza\n",
    "print('Covarianza entre el tiempo de rendering y cantidad gastada = {:4.2f}'.\n",
    "      format(covarianza (tiempoRender, cantidadComprada)))"
   ]
  },
  {
   "cell_type": "markdown",
   "metadata": {},
   "source": [
    "Ahora haremos un ejercicio dividiendo la cantidad gastada por la velocidad de la página (utilizamos una operación punto ente matrices). Esto nos dará una correlación mña real. "
   ]
  },
  {
   "cell_type": "code",
   "execution_count": 116,
   "metadata": {},
   "outputs": [
    {
     "name": "stdout",
     "output_type": "stream",
     "text": [
      "Covarianza entre el tiempo de rendering y cantidad gastada = -10.05\n"
     ]
    },
    {
     "data": {
      "image/png": "[encoded data removed]",
      "text/plain": [
       "<matplotlib.figure.Figure at 0x1a1d0c6dd8>"
      ]
     },
     "metadata": {},
     "output_type": "display_data"
    }
   ],
   "source": [
    "cantidadComprada = np.random.normal(50.0, 10.0, 1000) / tiempoRender\n",
    "plt.figure(figsize=(10,5))\n",
    "plt.scatter(tiempoRender, cantidadComprada, alpha=0.5, s=5, color='g')\n",
    "print('Covarianza entre el tiempo de rendering y cantidad gastada = {:4.2f}'.\n",
    "      format(covarianza (tiempoRender, cantidadComprada)))"
   ]
  },
  {
   "cell_type": "markdown",
   "metadata": {},
   "source": [
    "La relación negativa nos indica que conforme el tiempo de *rendering* aumenta, la cantidad gastada en la página disminuye."
   ]
  },
  {
   "cell_type": "code",
   "execution_count": 119,
   "metadata": {},
   "outputs": [
    {
     "name": "stdout",
     "output_type": "stream",
     "text": [
      "Correlación entre el tiempo de rendering y cantidad gastada = -0.53\n"
     ]
    }
   ],
   "source": [
    "def correlacion(x, y):\n",
    "    # x e y son arreglos n x m\n",
    "    devstd_x = x.std()\n",
    "    devstd_y = y.std()\n",
    "    try:\n",
    "        return covarianza(x,y) / devstd_x / devstd_y  \n",
    "    except ZeroDivisionError:\n",
    "        print ('División por cero')\n",
    "        \n",
    "        \n",
    "print('Correlación entre el tiempo de rendering y cantidad gastada = {:4.2f}'.\n",
    "      format(correlacion (tiempoRender, cantidadComprada)))"
   ]
  },
  {
   "cell_type": "markdown",
   "metadata": {},
   "source": [
    "Veamos el camino corto con Numpy"
   ]
  },
  {
   "cell_type": "code",
   "execution_count": 118,
   "metadata": {},
   "outputs": [
    {
     "data": {
      "text/plain": [
       "array([[ 1.        , -0.53258311],\n",
       "       [-0.53258311,  1.        ]])"
      ]
     },
     "execution_count": 118,
     "metadata": {},
     "output_type": "execute_result"
    }
   ],
   "source": [
    "np.corrcoef(tiempoRender, cantidadComprada)"
   ]
  },
  {
   "cell_type": "code",
   "execution_count": 121,
   "metadata": {},
   "outputs": [
    {
     "name": "stdout",
     "output_type": "stream",
     "text": [
      "Correlación entre el tiempo de rendering y cantidad gastada = -1.00\n"
     ]
    },
    {
     "data": {
      "image/png": "[encoded data removed]",
      "text/plain": [
       "<matplotlib.figure.Figure at 0x1a1d06ce48>"
      ]
     },
     "metadata": {},
     "output_type": "display_data"
    }
   ],
   "source": [
    "cantidadComprada2 = 100 - tiempoRender * 3\n",
    "plt.figure(figsize=(10,5))\n",
    "plt.scatter(tiempoRender, cantidadComprada2, alpha=0.5, s=5, color='r')\n",
    "print('Correlación entre el tiempo de rendering y cantidad gastada = {:4.2f}'.\n",
    "      format(correlacion (tiempoRender, cantidadComprada2)))"
   ]
  },
  {
   "cell_type": "markdown",
   "metadata": {},
   "source": [
    "<font color='blue'>Observación: </font>Correlación no implica causalidad."
   ]
  },
  {
   "cell_type": "code",
   "execution_count": null,
   "metadata": {},
   "outputs": [],
   "source": []
  },
  {
   "cell_type": "code",
   "execution_count": null,
   "metadata": {},
   "outputs": [],
   "source": []
  },
  {
   "cell_type": "markdown",
   "metadata": {},
   "source": [
    "## De aquí para abajo no va"
   ]
  },
  {
   "cell_type": "code",
   "execution_count": null,
   "metadata": {},
   "outputs": [],
   "source": []
  },
  {
   "cell_type": "code",
   "execution_count": null,
   "metadata": {},
   "outputs": [],
   "source": []
  },
  {
   "cell_type": "code",
   "execution_count": 9,
   "metadata": {
    "scrolled": true
   },
   "outputs": [
    {
     "data": {
      "text/plain": [
       "<matplotlib.collections.PathCollection at 0x1a161760b8>"
      ]
     },
     "execution_count": 9,
     "metadata": {},
     "output_type": "execute_result"
    },
    {
     "data": {
      "image/png": "[encoded data removed]",
      "text/plain": [
       "<matplotlib.figure.Figure at 0x1a0ff92208>"
      ]
     },
     "metadata": {},
     "output_type": "display_data"
    }
   ],
   "source": [
    "%matplotlib inline\n",
    "from pylab import *\n",
    "import numpy as np\n",
    "\n",
    "plt.figure(figsize =(14, 10))\n",
    "np.random.seed(2)\n",
    "pageSpeeds = np.random.normal(3.0, 1.0, 1000)\n",
    "plt.xlabel('Velocidad (s)')\n",
    "plt.ylabel('Monto comprado (US$)')\n",
    "purchaseAmount = np.random.normal(50.0, 20.0, 1000) / pageSpeeds\n",
    "\n",
    "scatter(pageSpeeds, purchaseAmount, color='r', alpha=0.5)"
   ]
  },
  {
   "cell_type": "code",
   "execution_count": null,
   "metadata": {},
   "outputs": [],
   "source": []
  },
  {
   "cell_type": "markdown",
   "metadata": {},
   "source": [
    "We'll visualize our original scatter plot, together with a plot of our predicted values using the polynomial for page speed times ranging from 0-7 seconds:"
   ]
  },
  {
   "cell_type": "code",
   "execution_count": null,
   "metadata": {},
   "outputs": [],
   "source": [
    "import matplotlib.pyplot as plt\n",
    "\n",
    "plt.figure(figsize =(12, 10))\n",
    "xp = np.linspace(0, 10, 400)\n",
    "plt.scatter(x, y, c='r',alpha=0.5)\n",
    "plt.plot(xp, p1(xp), c='b')\n",
    "plt.show()"
   ]
  },
  {
   "cell_type": "code",
   "execution_count": null,
   "metadata": {},
   "outputs": [],
   "source": [
    "from sklearn.metrics import r2_score\n",
    "\n",
    "r2 = r2_score(y, p5(x))\n",
    "\n",
    "print('r2 = {:.3f}'.format(r2))\n"
   ]
  }
 ],
 "metadata": {
  "kernelspec": {
   "display_name": "Python 3",
   "language": "python",
   "name": "python3"
  },
  "language_info": {
   "codemirror_mode": {
    "name": "ipython",
    "version": 3
   },
   "file_extension": ".py",
   "mimetype": "text/x-python",
   "name": "python",
   "nbconvert_exporter": "python",
   "pygments_lexer": "ipython3",
   "version": "3.6.4"
  }
 },
 "nbformat": 4,
 "nbformat_minor": 1
}
