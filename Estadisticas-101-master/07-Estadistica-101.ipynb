{
 "cells": [
  {
   "cell_type": "markdown",
   "metadata": {},
   "source": [
    "# 07 Estadística-101\n",
    "\n",
    "Autores:\n",
    "    * Andrés Leiva Araos  :: andres.leivaa@gmail.com\n",
    "    * Roberto Moraga Díaz :: roberto.moraga@telefonica.com"
   ]
  },
  {
   "cell_type": "markdown",
   "metadata": {},
   "source": [
    "Este curso está orientado a personas que quieren reforzar conocimientos de estadísticas básicas aplicadas al análisis de datos voluminosos, de cara a tener una mejor base para futuros procesos de inferencia y otras técnicas analíticas avanzadas."
   ]
  },
  {
   "cell_type": "markdown",
   "metadata": {},
   "source": [
    "### Índice\n",
    "\n",
    "1. Introducción\n",
    "    * Población\n",
    "    * Muestras\n",
    "    * Variables\n",
    "    * Parámetros\n",
    "    * Estadígrafos\n",
    "2. Distribuciones\n",
    "    * Normal\n",
    "    * Gamma\n",
    "3. Teorema del límite central\n",
    "4. Análisis de umbrales sensibilidad\n",
    "5. Intervalos de confianza\n",
    "6. Tamaño muestral\n",
    "7. Pareto\n",
    "8. Correlación\n",
    "9. Regresión lineal\n",
    "10. Regresión polinomial\n",
    "11. Clustering\n",
    "\n"
   ]
  },
  {
   "cell_type": "markdown",
   "metadata": {},
   "source": [
    "## Librerías  de Python que utilizaremos"
   ]
  },
  {
   "cell_type": "code",
   "execution_count": null,
   "metadata": {},
   "outputs": [],
   "source": [
    "import numpy as np # importando numpy\n",
    "from scipy import stats # importando scipy.stats\n",
    "import pandas as pd # importando pandas\n",
    "import math\n",
    "import matplotlib.pyplot as plt\n",
    "\n",
    "np.random.seed(1) # para poder replicar el random\n"
   ]
  },
  {
   "cell_type": "markdown",
   "metadata": {},
   "source": [
    "### Población\n",
    "Colección completa de todos los individuos de interés para el investigador.\n",
    "\n",
    "A continuación mostraremos una población con **distribución Normal** con media $\\mu = 0$ y sigma $\\sigma = 1$<br>\n",
    "Las distribuciones normales (o Gaussianas) se aplican a variables continuas, donde la gráfica de su función densidad de proabilidad tiene una forma acampanada y simétrica. Representan más del 50% de los fenomenos industriales estudiados. Sin embargo, hay otras distribuciones que estudiaremos más adelante."
   ]
  },
  {
   "cell_type": "code",
   "execution_count": null,
   "metadata": {
    "scrolled": true
   },
   "outputs": [],
   "source": [
    "# Generamos una semilla para que la población que creemos sea siempre la misma\n",
    "np.random.seed(41)\n",
    "# Generamos la población con la semilla creada\n",
    "media = 0\n",
    "sigma = 1.0\n",
    "size = 100\n",
    "\n",
    "poblacion = np.random.normal(media, sigma, size)\n",
    "print(poblacion)"
   ]
  },
  {
   "cell_type": "markdown",
   "metadata": {},
   "source": [
    "Otro tipo de distribución distinta a la Normal, es la **Distribución Uniforme Discreta**. Ahora crearemos una segunda población con datos aleatorios con distribución Uniforme discreta, esta vez representando edades de 1000 adultos. Debemos hacerlo de la siguiente forma:\n",
    "```Python\n",
    "    np.random.randint(valor_mínimo, valor_máximo, tamaño)\n",
    "```"
   ]
  },
  {
   "cell_type": "code",
   "execution_count": null,
   "metadata": {},
   "outputs": [],
   "source": [
    "edad_min = 18 # rango inferior de edades\n",
    "edad_max = 90 # rango superior de edades\n",
    "size = 1000\n",
    "edades = np.random.randint(low=edad_min, high=edad_max, size=size)\n",
    "edades[:10] # Visualizamos los diez primeros"
   ]
  },
  {
   "cell_type": "markdown",
   "metadata": {},
   "source": [
    "Si quisieramos crear una **Distribución Uniforme Continua** debemos hacerlo de esta forma:\n",
    "\n",
    "```Python\n",
    "    np.random.uniform(valor_mínimo, valor_máximo, tamaño)\n",
    "```"
   ]
  },
  {
   "cell_type": "code",
   "execution_count": null,
   "metadata": {},
   "outputs": [],
   "source": [
    "edades2 = np.random.uniform(18,90, size=10)\n",
    "print(edades2)"
   ]
  },
  {
   "cell_type": "markdown",
   "metadata": {},
   "source": [
    "## Parámetros\n",
    "Valor que caractariza un aspecto de la población. Ej.: media poblacional, mediana poblacional, desviación estándar poblacional, etc.\n",
    "\n",
    "Analicemos los parámetros de la población **poblacion**"
   ]
  },
  {
   "cell_type": "code",
   "execution_count": null,
   "metadata": {},
   "outputs": [],
   "source": [
    "print('Media poblacional\\t\\t= {:4.2f}'.format(poblacion.mean()))\n",
    "print('Desviación estándar poblacional\\t= {:4.2f}'.format(poblacion.std()))\n",
    "print('Mediana poblacional\\t\\t= {:4.2f}'.format(np.median(poblacion)))"
   ]
  },
  {
   "cell_type": "markdown",
   "metadata": {},
   "source": [
    "Ahora analicemos los parámetros de la población **edades**"
   ]
  },
  {
   "cell_type": "code",
   "execution_count": null,
   "metadata": {},
   "outputs": [],
   "source": [
    "print('Tamaño población edades\\t\\t\\t= {:d} individuos'.format(len(edades)))\n",
    "print('Media de edades\\t\\t\\t\\t= {:4.2f}'.format(edades.mean()))\n",
    "print('Desviación estándar de las edades\\t= {:4.2f}'.format(edades.std()))\n",
    "print('Mediana poblacional de las edades\\t= {:4.2f}'.format(np.median(edades)))\n",
    "print('Moda poblacional es {} y se repite {} veces'.format(str(stats.mode(edades)[0][0]),\n",
    "                                              str(stats.mode(edades)[1][0])))"
   ]
  },
  {
   "cell_type": "markdown",
   "metadata": {},
   "source": [
    "## Muestra\n",
    "Subconjunto de la población, el cual es representativo de la misma."
   ]
  },
  {
   "cell_type": "code",
   "execution_count": null,
   "metadata": {},
   "outputs": [],
   "source": [
    "# Tomemos como muestra los diez últimos elementos de la población\n",
    "muestra1 = poblacion[90:]\n",
    "print(muestra1)"
   ]
  },
  {
   "cell_type": "code",
   "execution_count": null,
   "metadata": {},
   "outputs": [],
   "source": [
    "# Ahora tomemos como muestra los cincuenta elementos de forma aleatoria desde la población, \n",
    "# en la cual todos tienen la misma probabilidad de ser escogidos\n",
    "muestra2 = np.random.choice(poblacion, 50)\n",
    "print(muestra2)"
   ]
  },
  {
   "cell_type": "markdown",
   "metadata": {},
   "source": [
    "¿Cuál de las dos muestras (muestra1 ó muestra2) es la mejor?"
   ]
  },
  {
   "cell_type": "markdown",
   "metadata": {},
   "source": [
    "Lo anterior es un estilo de muestreo aleatorio simple, el cual, junto con su tamaño, aseguran representatividad, es decir, que la muestra sea una imagen confiable de la población. <br>\n",
    "\n",
    "**Conclusión**<br>\n",
    "Un buen muestreo aleatorio evita el sesgo muestral, el cual es la tendencia a favorecer la selección de determinados individuos de la población."
   ]
  },
  {
   "cell_type": "markdown",
   "metadata": {},
   "source": [
    "### Reflexión\n",
    "¿Por qué muestrear?<br>\n",
    "¿Por qué no usar la población completa (el censo) si es que disponemos de él?"
   ]
  },
  {
   "cell_type": "markdown",
   "metadata": {},
   "source": [
    "## Estadísticos\n",
    "Medida descriptiva de la muestra que se utiliza para estimar al respectivo parámetro poblacional. El *estadístico* es básicamente lo mismo que el *parámetro poblacional*, pero se diferencia en que se calcula a partir de la muestra y no de la población."
   ]
  },
  {
   "cell_type": "code",
   "execution_count": null,
   "metadata": {},
   "outputs": [],
   "source": [
    "# Estadísticos de la muestra poblacional aleatoria \"muestra2\"\n",
    "estadistico_media = muestra2.mean()\n",
    "\n",
    "# La desvisción estándar para muestras se denomina \"desviación estándar insesgada\" ya que se calcula dividiendo\n",
    "# por (n - 1)\n",
    "estadistico_std = muestra2.std(ddof=1)\n",
    "print('Media muestral\\t\\t\\t= {:4.2f}'.format(estadistico_media))\n",
    "print('Desviación estándar muestral\\t= {:4.2f}'.format(estadistico_std))\n",
    "print('Mediana muestral\\t\\t= {:4.2f}'.format(np.median(muestra2)))"
   ]
  },
  {
   "cell_type": "markdown",
   "metadata": {},
   "source": [
    "**Observación**<br>\n",
    "La desviaión estándar muestral se denota con el símbolo: <font color='blue'>$S$</font>  o <font color='blue'>$\\widehat{\\sigma}$</font>\n",
    "\n",
    "La media muestral se denota con el símbolo: <font color='blue'>$\\overline{X}$</font>  o <font color='blue'>$\\widehat{\\mu}$</font>\n",
    "\n",
    "\n",
    "\n"
   ]
  },
  {
   "cell_type": "markdown",
   "metadata": {},
   "source": [
    "## Error muestral\n",
    "Es la diferencia entre el valor del **parámetro poblacional** y el producido por el **estadístico muestral**.\n",
    "\n",
    "Se concluye fácilmente que una buena técnica de muestreo reduce el error muestral del estimador."
   ]
  },
  {
   "cell_type": "code",
   "execution_count": null,
   "metadata": {},
   "outputs": [],
   "source": [
    "print('Media población\\t= {:4.2f}'.format(np.mean(poblacion)))\n",
    "print('Media muestra1\\t= {:4.2f}'.format(np.mean(muestra1)))\n",
    "print('Media muestra2\\t= {:4.2f}'.format(np.mean(muestra2)))"
   ]
  },
  {
   "cell_type": "markdown",
   "metadata": {},
   "source": [
    "Grafiquemos el error muestral"
   ]
  },
  {
   "cell_type": "code",
   "execution_count": null,
   "metadata": {},
   "outputs": [],
   "source": [
    "# Declara lista1 con 3 valores de medias\n",
    "lista1 = [np.mean(poblacion),np.mean(muestra1),np.mean(muestra2)]  \n",
    "# Declara lista2 con 3 nombres\n",
    "lista2 = ['Media Poblacional','Media Muestra 1','Media Muestra 2'] \n",
    "plt.figure(figsize=(10, 5))\n",
    "plt.bar(lista2, lista1, color='g')   # Dibuja el gráfico\n",
    "plt.title(\"Error muestral\")   # Establece el título del gráfico\n",
    "plt.xlabel(\"Grupo\")   # Establece el título del eje x \n",
    "plt.ylabel(\"Valor\")   # Establece el título del eje y\n",
    "plt.show()"
   ]
  },
  {
   "cell_type": "markdown",
   "metadata": {},
   "source": [
    "<font color='blue'>Conclusión: </font>Se concluye que el error muestral se explica por la técnica de muestreo y el tamaño de la muestra."
   ]
  },
  {
   "cell_type": "markdown",
   "metadata": {},
   "source": [
    "## Distribuciones estadísticas"
   ]
  },
  {
   "cell_type": "markdown",
   "metadata": {},
   "source": [
    "### Normal\n",
    "\n",
    "Las distribuciones normales representan más del 50% de los fenomenos industriales estudiados. Esta distribución es de carácter continuo (no discreta).\n",
    "\n",
    "Los parámetros de media, mediana y moda en una distribución normal son iguales.\n",
    "\n",
    "La media corresponde al punto en la curva en el cual la perdiente (primera derivada) es cero, y la desviación estándar corresponde a la diferencia de los valores entre el punto de la media y el punto en la curva en los cuales la pendiente cambia de signo.\n",
    "\n",
    "A considerar:\n",
    "* Entre el primer **sigma** ($\\sigma$) positivo y el primer **sigma** negativo se encuentra el 68% de los casos.\n",
    "* Entre el segundo **sigma** positivo y el segundo **sigma** negativo se encuentra el 95,5% de los casos. \n",
    "* Entre el tercer **sigma** positivo y el tercer **sigma** negativo se encuentra el 99,73% de los casos."
   ]
  },
  {
   "cell_type": "code",
   "execution_count": null,
   "metadata": {},
   "outputs": [],
   "source": [
    "np.random.seed(1)\n",
    "# Generamos la población con la semilla creada\n",
    "# donde: np.random.normal(media, sigma, size)\n",
    "normal = np.random.normal(0, 1.0, 1000) \n",
    "print(normal[:100])"
   ]
  },
  {
   "cell_type": "code",
   "execution_count": null,
   "metadata": {
    "scrolled": true
   },
   "outputs": [],
   "source": [
    "# Hagamos un Histograma (gráfica de frecuencias) donde: \n",
    "# Eje X: las clases de la variable estudiada\n",
    "# Eje Y: la frecuencia absoluta de cada clase\n",
    "\n",
    "plt.figure(figsize=(10, 5))\n",
    "plt.hist(normal, 50, color='r')\n",
    "plt.show()"
   ]
  },
  {
   "cell_type": "code",
   "execution_count": null,
   "metadata": {},
   "outputs": [],
   "source": [
    "# Calculemos los parámetros de la población\n",
    "print('Media poblacional\\t\\t= {:4.2f}'.format(normal.mean()))\n",
    "print('Desviación estándar poblacional\\t= {:4.2f}'.format(normal.std()))\n",
    "print('Mediana poblacional\\t\\t= {:4.2f}'.format(np.median(normal)))"
   ]
  },
  {
   "cell_type": "markdown",
   "metadata": {},
   "source": [
    "### Test de Anderson-Darling\n",
    "Para comprobar si los datos de nuestra población o muestra siguen una distribución **normal**, utilizaremos un test de normalidad denominado **Anderson-Darling**, el cual  evalúa la hipótesis (y su correspondiente hipótesis nula) de que los datos siguen una distribuión normal:\n",
    "\n",
    "* H$_0$ :: los datos siguen una distribución normal \n",
    "* H$_1$ :: los datos NO siguen una distribución normal\n",
    "\n",
    "Si el valor arrojado (Test estadístico de Anderson-Darling) es menor al valor crítico dado para un cierto nivel de significanci (e.g.: 5%), se acepta la hipótesis H$_0$, i.e., los datos tienen una distribución normal."
   ]
  },
  {
   "cell_type": "code",
   "execution_count": null,
   "metadata": {},
   "outputs": [],
   "source": [
    "# Ejecutar Test de normalidad\n",
    "stats.anderson(normal, dist='norm')"
   ]
  },
  {
   "cell_type": "markdown",
   "metadata": {},
   "source": [
    "<font color='blue'>Conclusión:</font> el resultado del test arroja 0.37, el cual es menor a 0.784 (a nivel de significancia de un 5%), se concluye que los datos tiene una distribución normal."
   ]
  },
  {
   "cell_type": "markdown",
   "metadata": {},
   "source": [
    "Debido a que es Normal, podemos calcular la probabilidad usando la **Tabla Z** acumulada (normalización) \n",
    "¿Cuál es la probabilidad de que tomemos un elemento al azar y este sea menor a 2? Para responder esto usaremos la siguiente fórmula:\n",
    "\n",
    "\n",
    "$Z = \\frac{(x - \\mu)}{\\sigma}$"
   ]
  },
  {
   "cell_type": "code",
   "execution_count": null,
   "metadata": {},
   "outputs": [],
   "source": [
    "x = 2 # Valor al que queremos calcular su probabilidad acumulada\n",
    "mu = np.mean(normal) \n",
    "sigma = np.std(normal)\n",
    "Z = (x - mu) / sigma\n",
    "stats.norm.cdf(Z) # Probabilidad acumulada de infinito negativo al valor buscado"
   ]
  },
  {
   "cell_type": "markdown",
   "metadata": {},
   "source": [
    "¿Cuál es la probabilidad de que tomemos un elemento al azar y éste se encuentre entre -2 y 2?\n",
    "\n",
    "$Z_1 = \\frac{(x_1 - \\mu)}{\\sigma}$\n",
    "\n",
    "$Z_2 = \\frac{(x_2 - \\mu)}{\\sigma}$"
   ]
  },
  {
   "cell_type": "code",
   "execution_count": null,
   "metadata": {},
   "outputs": [],
   "source": [
    "\n",
    "\n",
    "x1 = -2 # Valor al que queremos calcular su probabilidad acumulada\n",
    "x2 = 2 # Valor al que queremos calcular su probabilidad acumulada\n",
    "mu = np.mean(normal) \n",
    "sigma = np.std(normal)\n",
    "z1 = (x1 - mu)/ sigma\n",
    "z2 = (x2 - mu)/ sigma\n",
    "\n",
    "stats.norm.cdf(z2) - stats.norm.cdf(z1) # Probabilidad es la resta de 2 probabilidades"
   ]
  },
  {
   "cell_type": "markdown",
   "metadata": {},
   "source": [
    "### Poisson\n",
    "\n",
    "La distribución **Poisson** se utiliza para contar de forma \"discreta\". Por ejemplo: cantidad de hijos, personas en una fila, camiones entrando a puerto, DPU (defector por unidad), pérdida de maletas por vuelo, etc.\n",
    "\n",
    "Crearemos una distribución del tipo Poisson aleatoria en la cual se utilizan dos parámetros:\n",
    "\n",
    "* $\\color{red}{\\lambda}$ (lambda) :: representa a la media de la población o muestra (e.g.: cantidad de personas promedio que llegana una cola de un banco por unidad de tiempo (hora)\n",
    "* $\\color{red}n$ :: tamaño de la población o muetra según el caso\n",
    "\n",
    "Nota:\n",
    "* La media de una distribución Poisson es $\\color{red}{\\lambda}$\n",
    "* La desviación estándar es $\\color{red}{\\sqrt{\\lambda}}$"
   ]
  },
  {
   "cell_type": "code",
   "execution_count": null,
   "metadata": {},
   "outputs": [],
   "source": [
    "# Generamos los datos aleatorios con semilla (seed) igual 1\n",
    "# lam = lambda\n",
    "lam = 90\n",
    "size = 100\n",
    "poisson = np.random.RandomState(seed=1).poisson(lam=lam, size=size)\n",
    "poisson"
   ]
  },
  {
   "cell_type": "code",
   "execution_count": null,
   "metadata": {},
   "outputs": [],
   "source": [
    "# Calculamos los parámetros:\n",
    "print('Media poblacional\\t\\t= {:4.2f}'.format(poisson.mean()))\n",
    "print('Desviación estándar poblacional\\t= {:4.2f}'.format(poisson.std()))\n",
    "print('Mediana poblacional\\t\\t= {:4.2f}'.format(np.median(poisson)))\n",
    "print('Moda poblacional es {} y se repite {} veces'.format(str(stats.mode(poisson)[0][0]),\n",
    "                                              str(stats.mode(poisson)[1][0])))\n"
   ]
  },
  {
   "cell_type": "code",
   "execution_count": null,
   "metadata": {},
   "outputs": [],
   "source": [
    "# Ejecutar Test de normalidad\n",
    "stats.anderson(poisson, dist='norm')"
   ]
  },
  {
   "cell_type": "markdown",
   "metadata": {},
   "source": [
    "En test anterior el valor arrojado es **0,346**, como este valor es menor a 0,885 (para alfa=5%), se puede concluir que los datos siguen una distribucón normal con 95% de seguridad.\n",
    "\n",
    "Por tanto, la evidencia práctica demuestra que las **distribuciones Poisson** se comportan como **Normales** cuando su lambda es grande.\n",
    "\n",
    "Veamos un gráfico de frecuencias para observar si visualmente sigue una forma gaussiana simñetrica:"
   ]
  },
  {
   "cell_type": "code",
   "execution_count": null,
   "metadata": {},
   "outputs": [],
   "source": [
    "# Realizando el histograma de Poisson con lambda = 90\n",
    "plt.figure(figsize=(10, 5))\n",
    "plt.hist(poisson, 12, color='r')\n",
    "plt.show()"
   ]
  },
  {
   "cell_type": "markdown",
   "metadata": {},
   "source": [
    "Lo anterior podría ser el caso de \"cantidad de clientes que llegan a una cola de un banco por cada intervalo de media hora\". <br> Si el banco dotara su sistema de atención basado en la media, tendría problemas para alcanzar su meta de Nivel de Servicio Acordado (e.g.: 85% de los clientes atendidos antes de 4 minutos)."
   ]
  },
  {
   "cell_type": "markdown",
   "metadata": {},
   "source": [
    "Probemos con una Poisson con un Lambda muy pequeño; por ejemplo 1.2 (e.g.: cantidad de hijos por alumnos en esta clase)"
   ]
  },
  {
   "cell_type": "code",
   "execution_count": null,
   "metadata": {},
   "outputs": [],
   "source": [
    "lam = 1.2\n",
    "size = 1000\n",
    "poisson2 = np.random.RandomState(seed=1).poisson(lam=lam, size=size)\n",
    "poisson2[:100]"
   ]
  },
  {
   "cell_type": "code",
   "execution_count": null,
   "metadata": {},
   "outputs": [],
   "source": [
    "print('Media poblacional\\t\\t= {:4.2f}'.format(poisson2.mean()))\n",
    "print('Desviación estándar poblacional\\t= {:4.2f}'.format(poisson2.std()))\n",
    "print('Mediana poblacional\\t\\t= {:4.2f}'.format(np.median(poisson2)))\n",
    "print('Moda poblacional es {} y se repite {} veces'.format(str(stats.mode(poisson2)[0][0]),\n",
    "                                              str(stats.mode(poisson2)[1][0])))\n"
   ]
  },
  {
   "cell_type": "code",
   "execution_count": null,
   "metadata": {},
   "outputs": [],
   "source": [
    "# Ejecutar test de normalidad\n",
    "stats.anderson(poisson2, dist='norm')"
   ]
  },
  {
   "cell_type": "markdown",
   "metadata": {},
   "source": [
    "El valor del test es **47,03**, debido a que no es menor a 0,784, no podemos concluir que los datos siguen una distribución normal.\n",
    "\n",
    "Veamos su histograma:"
   ]
  },
  {
   "cell_type": "code",
   "execution_count": null,
   "metadata": {},
   "outputs": [],
   "source": [
    "# Realizando el histograma de Poisson con lambda = 1,2\n",
    "plt.figure(figsize=(10, 5))\n",
    "plt.hist(poisson2, 12, color='r')\n",
    "plt.show()"
   ]
  },
  {
   "cell_type": "markdown",
   "metadata": {},
   "source": [
    "**TIPs:** La media es un indicador pobre si no se encuentra acompañada de la varianza, o de la probabilidad de ser alcanzada."
   ]
  },
  {
   "cell_type": "markdown",
   "metadata": {},
   "source": [
    "### Gamma\n",
    "\n",
    "La distribución **Gamma** se utiliza con variables continuas (no discretas) que siguen una forma asimétrica (no normales). Ejemplos de fenómenos que se describen con esta distribución son: tiempo de duración procesos o ciclos productivos, vida útil de baterías y componentes eléctricos, vida de los seres vivos, caducidad de bienes perecibles, tiempo entre llegadas de pedidos de clientes, etc.\n",
    "\n",
    "Crearemos una distribución del tipo Gamma aleatoria en la cual se utilizan dos parámetros:\n",
    "\n",
    "* $\\color{red} \\alpha$ :: representa el parámetro de la forma\n",
    "* $\\color{red} \\beta$ :: representa el parámetro de la escala\n",
    "* $\\color{red}n$ :: tamaño de la población o muetra según el caso\n",
    "\n",
    "Nota:\n",
    "* La media de una distribución Gamma se calcula $\\color{red}{\\alpha * \\beta}$\n",
    "* La desviación estándar es $\\color{red}{\\sqrt{\\alpha} * \\beta}$\n"
   ]
  },
  {
   "cell_type": "code",
   "execution_count": null,
   "metadata": {},
   "outputs": [],
   "source": [
    "def d_gamma(alfa, beta, n):\n",
    "    return np.random.RandomState().gamma(alfa, beta, n)"
   ]
  },
  {
   "cell_type": "code",
   "execution_count": null,
   "metadata": {},
   "outputs": [],
   "source": [
    "alfa = 1\n",
    "beta = 3\n",
    "n = 1000\n",
    "gamma = d_gamma(alfa, beta, n)"
   ]
  },
  {
   "cell_type": "code",
   "execution_count": null,
   "metadata": {},
   "outputs": [],
   "source": [
    "import scipy.special as sps\n",
    "plt.figure(figsize=(10, 5))\n",
    "\n",
    "count, bins, ignored = plt.hist(gamma, 20, normed=True, color='g')\n",
    "y = (bins-1)**(alfa-1)*(np.exp(-bins/beta) / (sps.gamma(alfa)*beta**alfa))\n",
    "plt.plot( y, linewidth=2, color='r')\n",
    "plt.show()"
   ]
  },
  {
   "cell_type": "code",
   "execution_count": null,
   "metadata": {},
   "outputs": [],
   "source": [
    "x = np.linspace(0, 50, num=51)"
   ]
  },
  {
   "cell_type": "code",
   "execution_count": null,
   "metadata": {},
   "outputs": [],
   "source": [
    "alfa = 1\n",
    "beta = 3\n",
    "alfa2 = 1\n",
    "beta2 = 8\n",
    "alfa3 = 2\n",
    "beta3 = 3\n",
    "plt.figure(figsize=(10,5))\n",
    "y = x**(alfa-1)*(np.exp(-x/beta) / (sps.gamma(alfa)*beta**alfa))\n",
    "plt.plot(x, y, linewidth=1, color='r')\n",
    "\n",
    "y2 = x**(alfa2-1)*(np.exp(-x/beta2) / (sps.gamma(alfa2)*beta2**alfa2))\n",
    "plt.plot(x, y2, linewidth=1, color='g')\n",
    "\n",
    "y3 = x**(alfa3-1)*(np.exp(-x/beta3) / (sps.gamma(alfa3)*beta3**alfa3))\n",
    "plt.plot(x, y3, linewidth=1, color='b')\n",
    "\n",
    "plt.show()"
   ]
  },
  {
   "cell_type": "markdown",
   "metadata": {},
   "source": [
    "## Teorema del límite central\n"
   ]
  },
  {
   "cell_type": "code",
   "execution_count": null,
   "metadata": {},
   "outputs": [],
   "source": [
    "def tlc(población, n_muestras, t_muestra):\n",
    "    # n_muestras :: Cantidad de muestras a obtener\n",
    "    # t_muestra :: Tamaño de las muestras\n",
    "    medias = []\n",
    "    for i in range(0, n_muestras):\n",
    "        muestra = np.random.choice(población, t_muestra)\n",
    "        medias.append(muestra.mean())\n",
    "    return medias"
   ]
  },
  {
   "cell_type": "code",
   "execution_count": null,
   "metadata": {},
   "outputs": [],
   "source": [
    "plt.figure(figsize=(10,5))\n",
    "\n",
    "medias = tlc(poisson2, 30, 3)\n",
    "plt.hist(medias, 12, color='r')\n",
    "plt.xticks(range(0,8,1))\n",
    "plt.show()"
   ]
  },
  {
   "cell_type": "code",
   "execution_count": null,
   "metadata": {},
   "outputs": [],
   "source": [
    "plt.figure(figsize=(10,5))\n",
    "medias = tlc(poisson2, 30, 305)\n",
    "plt.hist(medias, 12, color='r')\n",
    "plt.xticks(range(0,8,1))\n",
    "plt.show()"
   ]
  },
  {
   "cell_type": "markdown",
   "metadata": {},
   "source": [
    "## Intervalos de confianza:\n",
    "Como se mencionó anteriormente un estadístico es un estimador de un parámetro poblacional. Un estimador sencillo es el que hemos calculado anteriormente con las muestras, cuando sólo tenemos un valor, a este se le llama estimador puntual.\n",
    "\n",
    "Un buen estimador debe ser **insesgado** (cuando la media de su distribución muestral asociada coincide con la media de la población) y de **varianza mínima** (bajo sigma de las medias muestrales).  El sigma de las medias muestrales fue comentado en TLC, donde: \n",
    "\n",
    "$\\sigma_{medias muestrales} = \\frac{\\sigma_{poblacion}}{\\sqrt{n}}$\n",
    "\n",
    "Observar que cuanto mayor sea el tamaño de la muestra $n$, menor será la variabilidad del estimador de la media poblacional.\n",
    "\n",
    "Sabemos por TLC que para valores grandes de $n$, independiente de la distribución estadística que tenga su población, la media muestral sigue una distribución normal con media $\\overline{X}$, y sigma $\\frac{\\sigma_{poblacion}}{\\sqrt{n}}$.\n",
    "\n",
    "Por otra parte, el Teorema de Chebyshev nos dice que, en una distribución normal, aproximadamente un 95% de los datos estaban situados a una distancia inferior a dos desviaciones estándar de la media. \n",
    "\n",
    "**Intervalos de confianza:** es un par o varios pares de números entre los cuales se estima que estará cierto valor desconocido con una determinada probabilidad de acierto. Formalmente, estos números determinan un intervalo, que se calcula a partir de datos de una muestra, y el valor desconocido es un parámetro poblacional. La probabilidad de éxito en la estimación se representa con $1 - \\alpha$ y se denomina nivel de confianza. En estas circunstancias, $\\alpha$ es el llamado error aleatorio o nivel de significación, esto es, una medida de las posibilidades de fallar en la estimación mediante tal intervalo.\n",
    "    \n",
    "    \n",
    "    "
   ]
  },
  {
   "cell_type": "markdown",
   "metadata": {},
   "source": [
    "### 1) Intervalo de confianza para medias cuando *sigma* poblacional es conocido o la muestra es mayor a 120"
   ]
  },
  {
   "cell_type": "markdown",
   "metadata": {},
   "source": [
    "### Caso 1.1: muestra > 120"
   ]
  },
  {
   "cell_type": "code",
   "execution_count": null,
   "metadata": {},
   "outputs": [],
   "source": [
    "# Se utiliza la Tabla Z (Normal)\n",
    "# x_barra +- Z(1- α/2)* Sigma_poblacional / raiz (n)\n",
    "\n",
    "# Ejemplo 1: queremos estimar la media poblacional con un 95% de seguridad, sabemos que la \n",
    "# muestra que manejamos tiene 130 casos,\n",
    "# y su media muestral es 22.2 y el sigma muestral es 1.45\n",
    "\n",
    "n = 130\n",
    "x_barra = 22.2\n",
    "S = 1.45\n",
    "NC = 0.95 # nivel de confianza\n",
    "alfa = 1 - NC # nivel de significación\n",
    "z = stats.norm.ppf(1 - (alfa / 2)) # Z(1- α/2) \"aplicando inversa de 2 colas\"\n",
    "\n",
    "li = x_barra - z * S / (math.sqrt(n)) # Límite inferior del IC\n",
    "ls = x_barra + z * S / (math.sqrt(n)) # Límite superior del IC\n",
    "\n",
    "print('LI \\t\\t\\t= {:4.2f}'.format(li))\n",
    "print('LS \\t\\t\\t= {:4.2f}'.format(ls))\n",
    "print('Nivel de confianza (NC) = {:4.2f}'.format(NC))"
   ]
  },
  {
   "cell_type": "markdown",
   "metadata": {},
   "source": [
    "### Caso 1.2: $\\sigma_{poblacional}$ conocido"
   ]
  },
  {
   "cell_type": "code",
   "execution_count": null,
   "metadata": {},
   "outputs": [],
   "source": [
    "# Se utiliza la Tabla Z (Normal)\n",
    "# x_barra +- Z(1- α/2)* Sigma_poblacional / raiz (n)\n",
    "\n",
    "# Ejemplo 2: queremos estimar la media poblacional con un 95% de seguridad,\n",
    "# sabemos que la muestra que manejamos tiene 35 casos,\n",
    "# y su media muestral es 22.2 y el sigma muestral es 1.45\n",
    "# pero nos dicen que la desviación estandar poblacional es de 1.56\n",
    "\n",
    "n = 35\n",
    "x_barra = 22.2\n",
    "S = 1.45 # No usar este\n",
    "SIGMA = 1.56 # Usar este valor\n",
    "NC = 0.95 # nivel de confianza\n",
    "alfa = 1-NC # nivel de significación\n",
    "z = stats.norm.ppf(1-(alfa/2)) # Z(1- α/2) \"aplicando inversa de 2 colas\"\n",
    "\n",
    "li = x_barra - z * SIGMA / (math.sqrt(n)) # Límite inferior del IC\n",
    "ls = x_barra + z * SIGMA / (math.sqrt(n)) # Límite superior del IC\n",
    "\n",
    "print('LI \\t\\t\\t= {:4.2f}'.format(li))\n",
    "print('LS \\t\\t\\t= {:4.2f}'.format(ls))\n",
    "print('Nivel de confianza (NC) = {:4.2f}'.format(NC))"
   ]
  },
  {
   "cell_type": "markdown",
   "metadata": {},
   "source": [
    "### 2) Cuando $\\sigma_{poblacional}$ es desconocido y la muestra es menor a 120"
   ]
  },
  {
   "cell_type": "code",
   "execution_count": null,
   "metadata": {},
   "outputs": [],
   "source": [
    "# En este caso utilizamos la Tabla T (Student)\n",
    "# x_barra +- T(1- α/2; n-gl) * S / raiz (n)\n",
    "# Ejemplo 1: queremos estimar la media poblacional con un 95% de seguridad, sabemos que la muestra que manejamos tiene 40 casos,\n",
    "# y su media muestral es 22.2 y el sigma muestral es 1.45\n",
    "\n",
    "n = 40\n",
    "x_barra = 22.2\n",
    "S = 1.45\n",
    "NC = 0.95 # nivel de confianza\n",
    "alfa = 1 - NC # nivel de significación\n",
    "gl = n-1 # grados de libertad\n",
    "T = stats.t.ppf(1-(alfa/2),n) # T(1- α/2; n-gl) \"aplicando inversa de 2 colas\"\n",
    "\n",
    "li = x_barra - T * S / (math.sqrt(n)) # Límite inferior del IC\n",
    "ls = x_barra + T * S / (math.sqrt(n)) # Límite superior del IC\n",
    "\n",
    "print('LI \\t\\t\\t= {:4.2f}'.format(li))\n",
    "print('LS \\t\\t\\t= {:4.2f}'.format(ls))\n",
    "print('Nivel de confianza (NC) = {:4.2f}'.format(NC))"
   ]
  },
  {
   "cell_type": "markdown",
   "metadata": {},
   "source": [
    "### ¿Qué pasa si queremos estimar proporciones poblacionales ($\\pi$)?\n",
    "R: aplicar método 1.1 si \n",
    " \n",
    "$np >= 5$ \n",
    " \n",
    "donde:<br>\n",
    "\n",
    "$\\overline{X} = p$\n",
    "     \n",
    "$S = \\sqrt{{p * (1 - p)}}$\n",
    "     \n",
    "\n",
    " \n",
    "\n",
    " "
   ]
  },
  {
   "cell_type": "markdown",
   "metadata": {},
   "source": [
    "### ¿Qué pasa si queremos estimar tasas poblacionales ($\\lambda$)?\n",
    "R: aplicar método 1.1 si $\\lambda_{muestral}$ es grande:\n",
    " \n",
    "donde:<br>\n",
    "\n",
    "$\\overline{X} = \\lambda$\n",
    "     \n",
    "$S = \\sqrt{\\lambda}$\n",
    "     \n",
    "\n",
    " \n",
    "\n",
    " "
   ]
  },
  {
   "cell_type": "markdown",
   "metadata": {},
   "source": [
    "## Correlación\n",
    "\n",
    "La correlación trata de establecer la relación o dependencia que existe entre las dos variables que intervienen en una distribución bidimensional. Es decir, determinar si los cambios en una de las variables influyen en los cambios de la otra. En caso de que suceda, diremos que las variables están correlacionadas o que hay correlación entre ellas. La correlación es positiva cuando los valores de las variables aumenta juntos; y es negativa cuando un valor de una variable se reduce cuando el valor de la otra variable aumenta."
   ]
  },
  {
   "cell_type": "markdown",
   "metadata": {},
   "source": [
    "## Percentiles\n",
    "El percentil es una medida de posición usada en estadística que indica, una vez ordenados los datos de menor a mayor, el valor de la variable por debajo del cual se encuentra un porcentaje dado de observaciones en un grupo de observaciones. <br>\n",
    "Por ejemplo, el percentil 75º es el valor bajo el cual se encuentran el 75 por ciento de las observaciones."
   ]
  },
  {
   "cell_type": "code",
   "execution_count": null,
   "metadata": {},
   "outputs": [],
   "source": [
    "datos = np.random.normal(0, 0.5, 10000)\n",
    "plt.figure(figsize=(10,5))\n",
    "plt.hist(datos, 100, color='r')\n",
    "plt.show()"
   ]
  },
  {
   "cell_type": "code",
   "execution_count": null,
   "metadata": {},
   "outputs": [],
   "source": [
    "print('El percentil 50 de los datos es: {:4.2f}'.format(np.percentile(datos, 50)))\n",
    "print('El percentil 75 de los datos es: {:4.2f}'.format(np.percentile(datos, 75)))\n",
    "print('El percentil 90 de los datos es: {:4.2f}'.format(np.percentile(datos, 90)))"
   ]
  },
  {
   "cell_type": "markdown",
   "metadata": {},
   "source": [
    "## Covarianza\n",
    "\n",
    "Covarianza: La covarianza es el equivalente de la varianza aplicado a una variable bidimensional. Es la media aritmética de los productos de las desviaciones de cada una de las variables respecto a sus medias respectivas.La covarianza indica el sentido de la correlación entre las variables:\n",
    "\n",
    "Si $\\sigma_{xy} > 0$ la correlación es directa \n",
    "\n",
    "Si $\\sigma_{xy} < 0$ la correlación es inversa\n",
    "\n",
    "La covarianza mide cómo dos variables varían en tándem de sus medias.\n",
    "Por ejemplo, supongamos que trabajamos para una empresa de comercio electrónico, y están interesados en encontrar una correlación entre la velocidad de *rendering* la página y cuánto gasta un cliente en dicha página.\n",
    "Numpy ofrece métodos de covarianza, pero lo haremos de la \"manera difícil\" de mostrar lo que ocurre debajo del capó. Básicamente tratamos cada variable como un vector de desviaciones de la media, y calculamos el \"producto punto\" de ambos vectores. Geométricamente, se puede considerar que este es el ángulo entre los dos vectores en un espacio de alta dimensión, pero solo se puede considerar como una medida de similitud entre las dos variables.\n",
    "Primero, hagamos que la velocidad de la página y la cantidad de compra sean totalmente aleatorias e independientes entre sí; se producirá una covarianza muy pequeña ya que no existe una correlación real:"
   ]
  },
  {
   "cell_type": "code",
   "execution_count": null,
   "metadata": {},
   "outputs": [],
   "source": [
    "import numpy as np\n",
    "#from pylab import *\n",
    "\n",
    "def desv_media(x):\n",
    "    media_x = mean(x)\n",
    "    return [xi - media_x for xi in x]\n",
    "\n",
    "def covarianza(x, y):\n",
    "    n = len(x)\n",
    "    return dot(desv_media(x), desv_media(y)) / (n-1)\n",
    "\n",
    "plt.figure(figsize=(10,5))\n",
    "\n",
    "tiempoRender= np.random.normal(3.0, 1.0, 1000)\n",
    "cantidadComprada = np.random.normal(50.0, 10.0, 1000)\n",
    "\n",
    "plt.scatter(tiempoRender, cantidadComprada, alpha=0.5, s=5, color='g')"
   ]
  },
  {
   "cell_type": "code",
   "execution_count": null,
   "metadata": {},
   "outputs": [],
   "source": [
    "# Calculemos la covarianza\n",
    "print('Covarianza entre el tiempo de rendering y cantidad gastada = {:4.2f}'.\n",
    "      format(covarianza (tiempoRender, cantidadComprada)))"
   ]
  },
  {
   "cell_type": "markdown",
   "metadata": {},
   "source": [
    "Ahora haremos un ejercicio dividiendo la cantidad gastada por la velocidad de la página (utilizamos una operación punto ente matrices). Esto nos dará una correlación mña real. "
   ]
  },
  {
   "cell_type": "code",
   "execution_count": null,
   "metadata": {},
   "outputs": [],
   "source": [
    "cantidadComprada = np.random.normal(50.0, 10.0, 1000) / tiempoRender\n",
    "plt.figure(figsize=(10,5))\n",
    "plt.scatter(tiempoRender, cantidadComprada, alpha=0.5, s=5, color='g')\n",
    "print('Covarianza entre el tiempo de rendering y cantidad gastada = {:4.2f}'.\n",
    "      format(covarianza (tiempoRender, cantidadComprada)))"
   ]
  },
  {
   "cell_type": "markdown",
   "metadata": {},
   "source": [
    "La relación negativa nos indica que conforme el tiempo de *rendering* aumenta, la cantidad gastada en la página disminuye."
   ]
  },
  {
   "cell_type": "code",
   "execution_count": null,
   "metadata": {},
   "outputs": [],
   "source": [
    "def correlacion(x, y):\n",
    "    # x e y son arreglos n x m\n",
    "    devstd_x = x.std()\n",
    "    devstd_y = y.std()\n",
    "    try:\n",
    "        return covarianza(x,y) / devstd_x / devstd_y  \n",
    "    except ZeroDivisionError:\n",
    "        print ('División por cero')\n",
    "        \n",
    "        \n",
    "print('Correlación entre el tiempo de rendering y cantidad gastada = {:4.2f}'.\n",
    "      format(correlacion (tiempoRender, cantidadComprada)))"
   ]
  },
  {
   "cell_type": "markdown",
   "metadata": {},
   "source": [
    "Veamos el camino corto con Numpy"
   ]
  },
  {
   "cell_type": "code",
   "execution_count": null,
   "metadata": {},
   "outputs": [],
   "source": [
    "np.corrcoef(tiempoRender, cantidadComprada)"
   ]
  },
  {
   "cell_type": "code",
   "execution_count": null,
   "metadata": {},
   "outputs": [],
   "source": [
    "cantidadComprada2 = 100 - tiempoRender * 3\n",
    "plt.figure(figsize=(10,5))\n",
    "plt.scatter(tiempoRender, cantidadComprada2, alpha=0.5, s=5, color='r')\n",
    "print('Correlación entre el tiempo de rendering y cantidad gastada = {:4.2f}'.\n",
    "      format(correlacion (tiempoRender, cantidadComprada2)))"
   ]
  },
  {
   "cell_type": "markdown",
   "metadata": {},
   "source": [
    "<font color='blue'>Observación: </font>Correlación no implica causalidad."
   ]
  }
 ],
 "metadata": {
  "kernelspec": {
   "display_name": "Python 3",
   "language": "python",
   "name": "python3"
  },
  "language_info": {
   "codemirror_mode": {
    "name": "ipython",
    "version": 3
   },
   "file_extension": ".py",
   "mimetype": "text/x-python",
   "name": "python",
   "nbconvert_exporter": "python",
   "pygments_lexer": "ipython3",
   "version": "3.6.4"
  }
 },
 "nbformat": 4,
 "nbformat_minor": 1
}
